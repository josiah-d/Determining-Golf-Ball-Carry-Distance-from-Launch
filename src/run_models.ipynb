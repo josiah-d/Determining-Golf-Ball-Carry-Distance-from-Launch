{
 "cells": [
  {
   "cell_type": "code",
   "execution_count": 25,
   "id": "7022ca92-d2a5-4df5-a9ea-8f2eed146ebe",
   "metadata": {},
   "outputs": [],
   "source": [
    "# imports\n",
    "import sys  \n",
    "sys.path.insert(0, '..')\n",
    "\n",
    "import numpy as np\n",
    "import pandas as pd\n",
    "from sklearn.cross_decomposition import PLSRegression\n",
    "from sklearn.ensemble import GradientBoostingRegressor, RandomForestRegressor\n",
    "from sklearn.linear_model import ElasticNet\n",
    "from sklearn.metrics import mean_squared_error, r2_score\n",
    "from sklearn.model_selection import train_test_split\n",
    "from src import model\n",
    "import xgboost as xgb"
   ]
  },
  {
   "cell_type": "code",
   "execution_count": 2,
   "id": "605c22f0-d4b7-4688-b40f-80d012e22491",
   "metadata": {},
   "outputs": [],
   "source": [
    "# load data\n",
    "file_path = '../data/master.csv'\n",
    "\n",
    "df = pd.read_csv(file_path, index_col=0)"
   ]
  },
  {
   "cell_type": "code",
   "execution_count": 3,
   "id": "708f11f5-bfb8-46de-9906-c9ec11b8f312",
   "metadata": {},
   "outputs": [],
   "source": [
    "# set X & y\n",
    "X = df.drop(['date', 'time', 'carry_distance', 'distance_to_pin', 'total_distance'], axis=1)\n",
    "X = pd.concat([X, pd.get_dummies(X['club_type'])], axis=1)\n",
    "X.drop('club_type', axis=1, inplace=True)\n",
    "\n",
    "y = df['carry_distance']"
   ]
  },
  {
   "cell_type": "code",
   "execution_count": 21,
   "id": "9c0197e3-a015-4b8e-967b-851c8f4421f2",
   "metadata": {},
   "outputs": [],
   "source": [
    "# establish baseline\n",
    "az_rad = X['launch_angle'] * np.pi / 180\n",
    "g = 9.8\n",
    "\n",
    "est_carry = (X['ball_speed'] ** 2 * np.sin(2*az_rad)) / g"
   ]
  },
  {
   "cell_type": "code",
   "execution_count": 26,
   "id": "63107b76-00cf-497d-ac86-69e81dd30bc4",
   "metadata": {},
   "outputs": [
    {
     "name": "stdout",
     "output_type": "stream",
     "text": [
      "r2: 0.798360022388313\n",
      "rmse: 29.348549370324417\n"
     ]
    }
   ],
   "source": [
    "# eval baseline\n",
    "print(f'r2: {r2_score(est_carry, y)}')\n",
    "print(f'rmse: {mean_squared_error(est_carry, y)**0.5}')"
   ]
  },
  {
   "cell_type": "code",
   "execution_count": 4,
   "id": "54c32d82-f006-4496-a212-8095dccc9832",
   "metadata": {},
   "outputs": [],
   "source": [
    "# train, test split\n",
    "X_train, X_test, y_train, y_test = train_test_split(X, y)"
   ]
  },
  {
   "cell_type": "code",
   "execution_count": null,
   "id": "14c9fc22-a594-4cc9-866b-896542e10117",
   "metadata": {},
   "outputs": [],
   "source": []
  },
  {
   "cell_type": "code",
   "execution_count": 5,
   "id": "577150e6-cc23-4bb6-a241-dc31e708ac56",
   "metadata": {},
   "outputs": [],
   "source": [
    "# create class to stow models\n",
    "models = model.Models(X_train, X_test, y_train, y_test)"
   ]
  },
  {
   "cell_type": "code",
   "execution_count": 6,
   "id": "fe14b0ed-eee7-41ed-90a6-4ccc2dc43ad2",
   "metadata": {},
   "outputs": [],
   "source": [
    "# establish params for each model\n",
    "elastic_net_params = {'alpha': [0.005, 0.05, 0.1, 0.5, 0.9],\n",
    "                      'l1_ratio': [0, 0.2, 0.4, 0.6, 0.8, 1],\n",
    "                      'fit_intercept': [False, True],\n",
    "                      'normalize': [False, True]}\n",
    "\n",
    "pls_params = {'n_components': [2, 3, 4, 5, 6, 7, 8, 9, 10, 11, 12, 13, 14, 15],\n",
    "             'tol': [0.000000001, 0.00000001, 0.0000001, 0.000001, 0.00001, 0.0001],\n",
    "             'scale': [False, True]}\n",
    "\n",
    "rfr_params = {'n_estimators': [10, 100, 1000, 10000],\n",
    "              'max_depth': [None, 3, 7, 9, 15],\n",
    "              'max_features': ['auto', 'sqrt', 'log2'],\n",
    "              'bootstrap': [False, True]}\n",
    "\n",
    "xgb_params = {'max_depth': [3, 7, 9, 15],\n",
    "              'subsample': [0.01, 0.1, 0.5, 0.9, 0.99],\n",
    "              'colsample_bytree': [0.01, 0.1, 0.5, 0.9, 0.99],\n",
    "              'n_estimators': [10, 100, 1000, 10000]}\n",
    "\n",
    "gbr_params = {'criterion': ['mse'],\n",
    "              'loss': ['ls', 'lad', 'huber', 'quantile'],\n",
    "              'max_features': ['auto', 'sqrt', 'log2'],\n",
    "              'subsample': [0.9, 0.91, 0.92, 0.93, 0.94],\n",
    "              'max_depth': [4, 5, 6, 7, 8],\n",
    "              'n_estimators': [1000, 5000, 10000, 15000]}"
   ]
  },
  {
   "cell_type": "code",
   "execution_count": 7,
   "id": "a38593e2-8cf8-4cf7-888b-f571312b3d58",
   "metadata": {},
   "outputs": [
    {
     "name": "stdout",
     "output_type": "stream",
     "text": [
      "ElasticNet()\n",
      "Fitting 5 folds for each of 120 candidates, totalling 600 fits\n",
      "\n",
      "\n",
      "PLSRegression()\n",
      "Fitting 5 folds for each of 168 candidates, totalling 840 fits\n",
      "\n",
      "\n",
      "RandomForestRegressor()\n",
      "Fitting 5 folds for each of 120 candidates, totalling 600 fits\n"
     ]
    },
    {
     "name": "stderr",
     "output_type": "stream",
     "text": [
      "/Users/josiah/opt/anaconda3/lib/python3.8/site-packages/joblib/externals/loky/process_executor.py:688: UserWarning: A worker stopped while some jobs were given to the executor. This can be caused by a too short worker timeout or by a memory leak.\n",
      "  warnings.warn(\n"
     ]
    },
    {
     "name": "stdout",
     "output_type": "stream",
     "text": [
      "\n",
      "\n",
      "XGBRegressor(base_score=None, booster=None, colsample_bylevel=None,\n",
      "             colsample_bynode=None, colsample_bytree=None, gamma=None,\n",
      "             gpu_id=None, importance_type='gain', interaction_constraints=None,\n",
      "             learning_rate=None, max_delta_step=None, max_depth=None,\n",
      "             min_child_weight=None, missing=nan, monotone_constraints=None,\n",
      "             n_estimators=100, n_jobs=None, num_parallel_tree=None,\n",
      "             random_state=None, reg_alpha=None, reg_lambda=None,\n",
      "             scale_pos_weight=None, subsample=None, tree_method=None,\n",
      "             validate_parameters=None, verbosity=None)\n",
      "Fitting 5 folds for each of 400 candidates, totalling 2000 fits\n"
     ]
    },
    {
     "name": "stderr",
     "output_type": "stream",
     "text": [
      "/Users/josiah/opt/anaconda3/lib/python3.8/site-packages/joblib/externals/loky/process_executor.py:688: UserWarning: A worker stopped while some jobs were given to the executor. This can be caused by a too short worker timeout or by a memory leak.\n",
      "  warnings.warn(\n"
     ]
    },
    {
     "name": "stdout",
     "output_type": "stream",
     "text": [
      "\n",
      "\n",
      "GradientBoostingRegressor()\n",
      "Fitting 5 folds for each of 1200 candidates, totalling 6000 fits\n"
     ]
    },
    {
     "name": "stderr",
     "output_type": "stream",
     "text": [
      "/Users/josiah/opt/anaconda3/lib/python3.8/site-packages/joblib/externals/loky/process_executor.py:688: UserWarning: A worker stopped while some jobs were given to the executor. This can be caused by a too short worker timeout or by a memory leak.\n",
      "  warnings.warn(\n"
     ]
    },
    {
     "name": "stdout",
     "output_type": "stream",
     "text": [
      "\n",
      "\n"
     ]
    }
   ],
   "source": [
    "# build, fit, & eval models\n",
    "models.eval_model(model=ElasticNet(), params=elastic_net_params)\n",
    "models.eval_model(model=PLSRegression(), params=pls_params)\n",
    "models.eval_model(model=RandomForestRegressor(), params=rfr_params)\n",
    "models.eval_model(model=xgb.XGBRegressor(objective='reg:squarederror'), params=xgb_params)\n",
    "models.eval_model(model=GradientBoostingRegressor(), params=gbr_params)"
   ]
  },
  {
   "cell_type": "code",
   "execution_count": null,
   "id": "021dd93a-22ca-4ad3-a515-382393579086",
   "metadata": {},
   "outputs": [],
   "source": []
  },
  {
   "cell_type": "code",
   "execution_count": 8,
   "id": "4e4b5843-fecf-47f1-9687-dc0bd9b12920",
   "metadata": {},
   "outputs": [
    {
     "data": {
      "text/html": [
       "<div>\n",
       "<style scoped>\n",
       "    .dataframe tbody tr th:only-of-type {\n",
       "        vertical-align: middle;\n",
       "    }\n",
       "\n",
       "    .dataframe tbody tr th {\n",
       "        vertical-align: top;\n",
       "    }\n",
       "\n",
       "    .dataframe thead th {\n",
       "        text-align: right;\n",
       "    }\n",
       "</style>\n",
       "<table border=\"1\" class=\"dataframe\">\n",
       "  <thead>\n",
       "    <tr style=\"text-align: right;\">\n",
       "      <th></th>\n",
       "      <th>model</th>\n",
       "      <th>params</th>\n",
       "      <th>r2</th>\n",
       "      <th>mse</th>\n",
       "    </tr>\n",
       "  </thead>\n",
       "  <tbody>\n",
       "    <tr>\n",
       "      <th>0</th>\n",
       "      <td>ElasticNet</td>\n",
       "      <td>{'alpha': 0.05, 'copy_X': True, 'fit_intercept...</td>\n",
       "      <td>0.891089</td>\n",
       "      <td>409.721960</td>\n",
       "    </tr>\n",
       "    <tr>\n",
       "      <th>1</th>\n",
       "      <td>PLSRegression</td>\n",
       "      <td>{'copy': True, 'max_iter': 500, 'n_components'...</td>\n",
       "      <td>0.891074</td>\n",
       "      <td>409.746304</td>\n",
       "    </tr>\n",
       "    <tr>\n",
       "      <th>2</th>\n",
       "      <td>RandomForestRegressor</td>\n",
       "      <td>{'bootstrap': True, 'ccp_alpha': 0.0, 'criteri...</td>\n",
       "      <td>0.981709</td>\n",
       "      <td>73.207929</td>\n",
       "    </tr>\n",
       "    <tr>\n",
       "      <th>3</th>\n",
       "      <td>XGBRegressor</td>\n",
       "      <td>{'objective': 'reg:squarederror', 'base_score'...</td>\n",
       "      <td>0.989654</td>\n",
       "      <td>41.942065</td>\n",
       "    </tr>\n",
       "    <tr>\n",
       "      <th>4</th>\n",
       "      <td>GradientBoostingRegressor</td>\n",
       "      <td>{'alpha': 0.9, 'ccp_alpha': 0.0, 'criterion': ...</td>\n",
       "      <td>0.987962</td>\n",
       "      <td>48.483444</td>\n",
       "    </tr>\n",
       "  </tbody>\n",
       "</table>\n",
       "</div>"
      ],
      "text/plain": [
       "                       model  \\\n",
       "0                 ElasticNet   \n",
       "1              PLSRegression   \n",
       "2      RandomForestRegressor   \n",
       "3               XGBRegressor   \n",
       "4  GradientBoostingRegressor   \n",
       "\n",
       "                                              params        r2         mse  \n",
       "0  {'alpha': 0.05, 'copy_X': True, 'fit_intercept...  0.891089  409.721960  \n",
       "1  {'copy': True, 'max_iter': 500, 'n_components'...  0.891074  409.746304  \n",
       "2  {'bootstrap': True, 'ccp_alpha': 0.0, 'criteri...  0.981709   73.207929  \n",
       "3  {'objective': 'reg:squarederror', 'base_score'...  0.989654   41.942065  \n",
       "4  {'alpha': 0.9, 'ccp_alpha': 0.0, 'criterion': ...  0.987962   48.483444  "
      ]
     },
     "execution_count": 8,
     "metadata": {},
     "output_type": "execute_result"
    }
   ],
   "source": [
    "# show results\n",
    "models.results_df"
   ]
  },
  {
   "cell_type": "code",
   "execution_count": null,
   "id": "cf338601-e8aa-4b2b-a27c-a48b7b7a2090",
   "metadata": {},
   "outputs": [],
   "source": []
  },
  {
   "cell_type": "code",
   "execution_count": 15,
   "id": "f86c9d15-f402-4807-9bb8-1ac7f12fe2ed",
   "metadata": {},
   "outputs": [
    {
     "data": {
      "text/plain": [
       "XGBRegressor(base_score=0.5, booster='gbtree', colsample_bylevel=1,\n",
       "             colsample_bynode=1, colsample_bytree=0.9, gamma=0, gpu_id=-1,\n",
       "             importance_type='gain', interaction_constraints='',\n",
       "             learning_rate=0.003, max_delta_step=0, max_depth=3,\n",
       "             min_child_weight=1, missing=nan, monotone_constraints='()',\n",
       "             n_estimators=1000000, n_jobs=16, num_parallel_tree=1,\n",
       "             random_state=0, reg_alpha=0, reg_lambda=1, scale_pos_weight=1,\n",
       "             subsample=0.9, tree_method='exact', validate_parameters=1,\n",
       "             verbosity=None)"
      ]
     },
     "execution_count": 15,
     "metadata": {},
     "output_type": "execute_result"
    }
   ],
   "source": [
    "# train best model\n",
    "xgb_reg = xgb.XGBRegressor(base_score=0.5, booster='gbtree', colsample_bylevel=1,\n",
    "              colsample_bynode=1, colsample_bytree=0.9, gamma=0, gpu_id=-1,\n",
    "              importance_type='gain', interaction_constraints='',\n",
    "              learning_rate=0.003, max_delta_step=0, max_depth=3,\n",
    "              min_child_weight=1, monotone_constraints='()',\n",
    "              n_estimators=1000000, n_jobs=16, num_parallel_tree=1, random_state=0,\n",
    "              reg_alpha=0, reg_lambda=1, scale_pos_weight=1, subsample=0.9,\n",
    "              tree_method='exact', validate_parameters=1, verbosity=None)\n",
    "\n",
    "xgb_reg.fit(X_train, y_train)"
   ]
  },
  {
   "cell_type": "code",
   "execution_count": null,
   "id": "da0387c7-bbca-4006-b500-2ced6e9a912d",
   "metadata": {},
   "outputs": [],
   "source": []
  },
  {
   "cell_type": "code",
   "execution_count": null,
   "id": "1e9533ac-1771-4669-b4f1-d815ff43d27a",
   "metadata": {},
   "outputs": [],
   "source": [
    "# save results\n",
    "models.results_df.to_csv('../data/model_results.csv')"
   ]
  },
  {
   "cell_type": "code",
   "execution_count": null,
   "id": "d676a32e-b20e-41c1-bec5-b36ae9ff0473",
   "metadata": {},
   "outputs": [],
   "source": []
  },
  {
   "cell_type": "code",
   "execution_count": null,
   "id": "2e360ef9-0421-41a3-9d25-e32d229a6dff",
   "metadata": {},
   "outputs": [],
   "source": [
    "# get the features of the best model\n",
    "xgb_reg = models.best_models[3]\n",
    "feature_importances = xgb_reg.feature_importances_"
   ]
  },
  {
   "cell_type": "code",
   "execution_count": null,
   "id": "5e6b5f32-055b-4f84-8f10-dcb903ea2e42",
   "metadata": {},
   "outputs": [],
   "source": [
    "# create a dictionary of column names and feature importances\n",
    "feature_dict ={}\n",
    "\n",
    "for i, col in enumerate(X.columns):\n",
    "    feature_dict[col] = feature_importances[i]\n",
    "    \n",
    "feature_dict = {key: value for key, value in sorted(feature_dict.items(), key=lambda item: item[1])}\n",
    "\n",
    "feature_dict_wo_clubs = feature_dict.copy()\n",
    "\n",
    "del_features = ['Fw', 'Irn', 'Hyb', '1w', 'Wdg']\n",
    "\n",
    "for feature in del_features:\n",
    "    del feature_dict_wo_clubs[feature]"
   ]
  },
  {
   "cell_type": "code",
   "execution_count": null,
   "id": "78670929-7d37-4e43-acc9-568100f6e24a",
   "metadata": {},
   "outputs": [],
   "source": []
  },
  {
   "cell_type": "code",
   "execution_count": null,
   "id": "ffb4d4e3-36ce-450c-919b-b05f382ed4a4",
   "metadata": {},
   "outputs": [],
   "source": [
    "# plot feature importances\n",
    "fig = px.bar(x=feature_dict_wo_clubs.values(),\n",
    "             y=feature_dict_wo_clubs.keys(),\n",
    "             labels={\n",
    "                     'y': 'Features',\n",
    "                     'x': 'Importance'},\n",
    "             width=1600,\n",
    "             height=900)\n",
    "\n",
    "fig.update_layout(title={\n",
    "    'text': 'Feature Importances',\n",
    "    'font': dict(size=36)},\n",
    "    margin=dict(l=200, r=200, t=200, b=200))\n",
    "\n",
    "fig.write_image(f'../img/feature_importances.png')"
   ]
  },
  {
   "cell_type": "code",
   "execution_count": null,
   "id": "cbf2eff7-2cb5-415d-8cd5-b839c84d48a9",
   "metadata": {},
   "outputs": [],
   "source": []
  },
  {
   "cell_type": "code",
   "execution_count": null,
   "id": "9980ae23-faa8-4f6c-85eb-7e45460ecd34",
   "metadata": {},
   "outputs": [],
   "source": []
  },
  {
   "cell_type": "code",
   "execution_count": null,
   "id": "1f68ccaa-3dbe-4589-8324-b26d765a2667",
   "metadata": {},
   "outputs": [],
   "source": []
  },
  {
   "cell_type": "code",
   "execution_count": null,
   "id": "6e5c6f14-0cd8-483c-b601-eb1a2d0971df",
   "metadata": {},
   "outputs": [],
   "source": []
  },
  {
   "cell_type": "code",
   "execution_count": null,
   "id": "8be346f3-40c7-4865-9eeb-10587b17f170",
   "metadata": {},
   "outputs": [],
   "source": []
  },
  {
   "cell_type": "code",
   "execution_count": null,
   "id": "2a36cc7b-3a53-4aa0-a847-82d006a84d8e",
   "metadata": {},
   "outputs": [],
   "source": []
  }
 ],
 "metadata": {
  "kernelspec": {
   "display_name": "Python 3",
   "language": "python",
   "name": "python3"
  },
  "language_info": {
   "codemirror_mode": {
    "name": "ipython",
    "version": 3
   },
   "file_extension": ".py",
   "mimetype": "text/x-python",
   "name": "python",
   "nbconvert_exporter": "python",
   "pygments_lexer": "ipython3",
   "version": "3.8.10"
  }
 },
 "nbformat": 4,
 "nbformat_minor": 5
}
