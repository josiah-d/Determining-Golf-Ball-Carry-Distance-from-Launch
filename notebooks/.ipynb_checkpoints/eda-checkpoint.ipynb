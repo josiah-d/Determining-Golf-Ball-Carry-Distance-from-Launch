{
 "cells": [
  {
   "cell_type": "code",
   "execution_count": 21,
   "metadata": {},
   "outputs": [],
   "source": [
    "# imports\n",
    "import sys  \n",
    "sys.path.insert(0, '..')\n",
    "\n",
    "import matplotlib.pyplot as plt\n",
    "import numpy as np\n",
    "import pandas as pd\n",
    "from src import plot"
   ]
  },
  {
   "cell_type": "code",
   "execution_count": 25,
   "metadata": {},
   "outputs": [],
   "source": [
    "# load data\n",
    "file_path = '../data/master.csv'\n",
    "\n",
    "df = pd.read_csv(file_path, index_col=0)"
   ]
  },
  {
   "cell_type": "code",
   "execution_count": 16,
   "metadata": {},
   "outputs": [],
   "source": [
    "# generate launch direction, offline distance, ball speed plots, launch angle, max height, & spin axis by club\n",
    "plot.plot_launch_direction(df=df, title='Launch Direction & Carry Distance',\n",
    "                      legend='Azimuth (deg)', out_path='launch_direction')\n",
    "plot.plot_offline_distance(df=df, title='Offline Distance & Carry Distance',\n",
    "                      legend='Offline Distance (m)', out_path='offline_distance')\n",
    "plot.plot_ball_speed(df=df, title='Ball Speed & Carry Distance',\n",
    "                legend='Ball Speed (m/s)', out_path='ball_speed')\n",
    "plot.plot_launch_angle(df=df, title='Carry Distance & Launch Angle',\n",
    "                  legend='Launch Angle (deg)', out_path='launch_angle')\n",
    "plot.plot_max_height(df=df, title='Carry Distance & Max Height',\n",
    "                legend='Max Height (m)', out_path='max_height')\n",
    "# plot.plot_spin_axis(df=df, title='Spin Axis & Carry Distance',\n",
    "#                legend='Spin Axis (deg)', out_path='spin_axis')\n",
    "\n",
    "for name, group in df.groupby('club_type'):\n",
    "    plot.plot_launch_direction(df=group, title=f'Launch Direction & Carry Distance ({name})',\n",
    "                          legend='Azimuth (deg)', out_path=f'launch_direction_{name}')\n",
    "    plot.plot_offline_distance(df=group, title=f'Offline Distance & Carry Distance ({name})',\n",
    "                          legend='Offline Distance (m)', out_path=f'offline_distance_{name}')\n",
    "    plot.plot_ball_speed(df=group, title=f'Ball Speed & Carry Distance ({name})',\n",
    "                    legend='Ball Speed (m/s)', out_path=f'ball_speed_{name}')\n",
    "    plot.plot_launch_angle(df=group, title=f'Carry Distance & Launch Angle ({name})',\n",
    "                      legend='Launch Angle (deg)', out_path=f'launch_angle_{name}')\n",
    "    plot.plot_max_height(df=group, title=f'Carry Distance & Max Height ({name})',\n",
    "                    legend='Max Height (m)', out_path=f'max_height_{name}')\n",
    "#     plot.plot_spin_axis(df=group, title=f'Spin Axis & Carry Distance ({name})',\n",
    "#                   legend='Spin Axis (deg)', out_path=f'spin_axis_{name}')"
   ]
  },
  {
   "cell_type": "code",
   "execution_count": null,
   "metadata": {},
   "outputs": [],
   "source": []
  }
 ],
 "metadata": {
  "kernelspec": {
   "display_name": "Python 3",
   "language": "python",
   "name": "python3"
  },
  "language_info": {
   "codemirror_mode": {
    "name": "ipython",
    "version": 3
   },
   "file_extension": ".py",
   "mimetype": "text/x-python",
   "name": "python",
   "nbconvert_exporter": "python",
   "pygments_lexer": "ipython3",
   "version": "3.8.5"
  }
 },
 "nbformat": 4,
 "nbformat_minor": 4
}
