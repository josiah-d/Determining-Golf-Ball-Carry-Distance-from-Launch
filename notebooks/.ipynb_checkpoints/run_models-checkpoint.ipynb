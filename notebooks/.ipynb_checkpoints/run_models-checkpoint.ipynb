{
 "cells": [
  {
   "cell_type": "code",
   "execution_count": 1,
   "id": "7022ca92-d2a5-4df5-a9ea-8f2eed146ebe",
   "metadata": {},
   "outputs": [],
   "source": [
    "# imports\n",
    "import sys  \n",
    "sys.path.insert(0, '..')\n",
    "\n",
    "import pandas as pd\n",
    "from sklearn.cross_decomposition import PLSRegression\n",
    "from sklearn.ensemble import GradientBoostingRegressor, RandomForestRegressor\n",
    "from sklearn.linear_model import ElasticNet\n",
    "from sklearn.model_selection import train_test_split\n",
    "from src import model\n",
    "import xgboost as xgb"
   ]
  },
  {
   "cell_type": "code",
   "execution_count": 2,
   "id": "605c22f0-d4b7-4688-b40f-80d012e22491",
   "metadata": {},
   "outputs": [],
   "source": [
    "# load data\n",
    "file_path = '../data/master.csv'\n",
    "\n",
    "df = pd.read_csv(file_path, index_col=0)"
   ]
  },
  {
   "cell_type": "code",
   "execution_count": 3,
   "id": "708f11f5-bfb8-46de-9906-c9ec11b8f312",
   "metadata": {},
   "outputs": [],
   "source": [
    "# set X & y\n",
    "X = df.drop(['date', 'time', 'carry_distance', 'distance_to_pin', 'total_distance'], axis=1)\n",
    "X = pd.concat([X, pd.get_dummies(X['club_type'])], axis=1)\n",
    "X.drop('club_type', axis=1, inplace=True)\n",
    "\n",
    "y = df['carry_distance']"
   ]
  },
  {
   "cell_type": "code",
   "execution_count": 4,
   "id": "54c32d82-f006-4496-a212-8095dccc9832",
   "metadata": {},
   "outputs": [],
   "source": [
    "# train, test split\n",
    "X_train, X_test, y_train, y_test = train_test_split(X, y)"
   ]
  },
  {
   "cell_type": "code",
   "execution_count": null,
   "id": "02b23eb8-0ebf-41d7-8eb2-99f2f3088d0f",
   "metadata": {},
   "outputs": [],
   "source": []
  },
  {
   "cell_type": "code",
   "execution_count": 5,
   "id": "577150e6-cc23-4bb6-a241-dc31e708ac56",
   "metadata": {},
   "outputs": [],
   "source": [
    "# create class to stow models\n",
    "models = model.Models(X_train, X_test, y_train, y_test)"
   ]
  },
  {
   "cell_type": "code",
   "execution_count": 9,
   "id": "fe14b0ed-eee7-41ed-90a6-4ccc2dc43ad2",
   "metadata": {},
   "outputs": [],
   "source": [
    "# establish params for each model\n",
    "elastic_net_params = {'alpha': [0.005, 0.05, 0.1, 0.5, 0.9],\n",
    "                      'l1_ratio': [0, 0.2, 0.4, 0.6, 0.8, 1],\n",
    "                      'fit_intercept': [False, True],\n",
    "                      'normalize': [False, True]}\n",
    "\n",
    "pls_params = {'n_components': [2, 3, 4, 5, 6, 7, 8, 9, 10, 11, 12, 13, 14, 15],\n",
    "             'tol': [0.000000001, 0.00000001, 0.0000001, 0.000001, 0.00001, 0.0001],\n",
    "             'scale': [False, True]}\n",
    "\n",
    "rfr_params = {'n_estimators': [10, 100, 1000, 10000],\n",
    "              'max_depth': [None, 3, 7, 9, 15],\n",
    "              'max_features': ['auto', 'sqrt', 'log2'],\n",
    "              'bootstrap': [False, True]}\n",
    "\n",
    "xgb_params = {'max_depth': [3, 7, 9, 15],\n",
    "              'subsample': [0.01, 0.1, 0.5, 0.9, 0.99],\n",
    "              'colsample_bytree': [0.01, 0.1, 0.5, 0.9, 0.99],\n",
    "              'n_estimators': [10, 100, 1000, 10000]}\n",
    "\n",
    "gbr_params = {'criterion': ['mse'],\n",
    "              'loss': ['ls', 'lad', 'huber', 'quantile'],\n",
    "              'max_features': ['auto', 'sqrt', 'log2'],\n",
    "              'subsample': [0.9, 0.91, 0.92, 0.93, 0.94],\n",
    "              'max_depth': [4, 5, 6, 7, 8],\n",
    "              'n_estimators': [1000, 5000, 10000, 15000]}"
   ]
  },
  {
   "cell_type": "code",
   "execution_count": 10,
   "id": "a38593e2-8cf8-4cf7-888b-f571312b3d58",
   "metadata": {},
   "outputs": [
    {
     "name": "stdout",
     "output_type": "stream",
     "text": [
      "Fitting 5 folds for each of 120 candidates, totalling 600 fits\n",
      "Fitting 5 folds for each of 168 candidates, totalling 840 fits\n"
     ]
    }
   ],
   "source": [
    "# build, fit, & eval models\n",
    "models.eval_model(model=ElasticNet(), params=elastic_net_params)\n",
    "models.eval_model(model=PLSRegression(), params=pls_params)\n",
    "models.eval_model(model=RandomForestRegressor(), params=rfr_params)\n",
    "models.eval_model(model=xgb.XGBRegressor(objective='reg:squarederror'), params=xgb_params)\n",
    "models.eval_model(model=GradientBoostingRegressor(), params=gbr_params)"
   ]
  },
  {
   "cell_type": "code",
   "execution_count": null,
   "id": "79e23b02-9895-47d9-9bf3-03e0cb56de52",
   "metadata": {},
   "outputs": [],
   "source": []
  },
  {
   "cell_type": "code",
   "execution_count": 11,
   "id": "4e4b5843-fecf-47f1-9687-dc0bd9b12920",
   "metadata": {},
   "outputs": [
    {
     "data": {
      "text/html": [
       "<div>\n",
       "<style scoped>\n",
       "    .dataframe tbody tr th:only-of-type {\n",
       "        vertical-align: middle;\n",
       "    }\n",
       "\n",
       "    .dataframe tbody tr th {\n",
       "        vertical-align: top;\n",
       "    }\n",
       "\n",
       "    .dataframe thead th {\n",
       "        text-align: right;\n",
       "    }\n",
       "</style>\n",
       "<table border=\"1\" class=\"dataframe\">\n",
       "  <thead>\n",
       "    <tr style=\"text-align: right;\">\n",
       "      <th></th>\n",
       "      <th>model</th>\n",
       "      <th>params</th>\n",
       "      <th>r2</th>\n",
       "      <th>mse</th>\n",
       "    </tr>\n",
       "  </thead>\n",
       "  <tbody>\n",
       "    <tr>\n",
       "      <th>0</th>\n",
       "      <td>ElasticNet</td>\n",
       "      <td>{'alpha': 0.05, 'copy_X': True, 'fit_intercept...</td>\n",
       "      <td>0.912401</td>\n",
       "      <td>354.930742</td>\n",
       "    </tr>\n",
       "    <tr>\n",
       "      <th>1</th>\n",
       "      <td>ElasticNet</td>\n",
       "      <td>{'alpha': 0.05, 'copy_X': True, 'fit_intercept...</td>\n",
       "      <td>0.912401</td>\n",
       "      <td>354.930742</td>\n",
       "    </tr>\n",
       "    <tr>\n",
       "      <th>2</th>\n",
       "      <td>PLSRegression</td>\n",
       "      <td>{'copy': True, 'max_iter': 500, 'n_components'...</td>\n",
       "      <td>0.912470</td>\n",
       "      <td>354.766633</td>\n",
       "    </tr>\n",
       "  </tbody>\n",
       "</table>\n",
       "</div>"
      ],
      "text/plain": [
       "           model                                             params        r2  \\\n",
       "0     ElasticNet  {'alpha': 0.05, 'copy_X': True, 'fit_intercept...  0.912401   \n",
       "1     ElasticNet  {'alpha': 0.05, 'copy_X': True, 'fit_intercept...  0.912401   \n",
       "2  PLSRegression  {'copy': True, 'max_iter': 500, 'n_components'...  0.912470   \n",
       "\n",
       "          mse  \n",
       "0  354.930742  \n",
       "1  354.930742  \n",
       "2  354.766633  "
      ]
     },
     "execution_count": 11,
     "metadata": {},
     "output_type": "execute_result"
    }
   ],
   "source": [
    "# show results\n",
    "models.results_df"
   ]
  },
  {
   "cell_type": "code",
   "execution_count": null,
   "id": "cf338601-e8aa-4b2b-a27c-a48b7b7a2090",
   "metadata": {},
   "outputs": [],
   "source": []
  }
 ],
 "metadata": {
  "kernelspec": {
   "display_name": "Python 3",
   "language": "python",
   "name": "python3"
  },
  "language_info": {
   "codemirror_mode": {
    "name": "ipython",
    "version": 3
   },
   "file_extension": ".py",
   "mimetype": "text/x-python",
   "name": "python",
   "nbconvert_exporter": "python",
   "pygments_lexer": "ipython3",
   "version": "3.8.10"
  }
 },
 "nbformat": 4,
 "nbformat_minor": 5
}
