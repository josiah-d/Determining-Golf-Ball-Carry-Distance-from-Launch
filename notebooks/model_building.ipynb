{
 "cells": [
  {
   "cell_type": "code",
   "execution_count": 1,
   "metadata": {},
   "outputs": [],
   "source": [
    "# imports\n",
    "from matplotlib import pyplot as plt\n",
    "import numpy as np\n",
    "import pandas as pd\n",
    "from sklearn.cluster import KMeans\n",
    "from sklearn.linear_model import LinearRegression, Lasso, Ridge, ElasticNet\n",
    "from sklearn.metrics import mean_squared_error, r2_score\n",
    "from sklearn.model_selection import train_test_split, KFold, GridSearchCV"
   ]
  },
  {
   "cell_type": "code",
   "execution_count": 2,
   "metadata": {},
   "outputs": [],
   "source": [
    "# load data\n",
    "file_path = '../data/master.csv'\n",
    "\n",
    "df = pd.read_csv(file_path, index_col=0)"
   ]
  },
  {
   "cell_type": "code",
   "execution_count": 3,
   "metadata": {},
   "outputs": [],
   "source": [
    "# set X & y\n",
    "X = df.drop(['date', 'time', 'total_distance', 'distance_to_pin'], axis=1)\n",
    "X = pd.concat([X, pd.get_dummies(X['club_type'])], axis=1)\n",
    "X.drop('club_type', axis=1, inplace=True)\n",
    "\n",
    "y = df['carry_distance']"
   ]
  },
  {
   "cell_type": "code",
   "execution_count": 4,
   "metadata": {},
   "outputs": [],
   "source": [
    "# train, test split\n",
    "X_train, X_test, y_train, y_test = train_test_split(X, y)"
   ]
  },
  {
   "cell_type": "code",
   "execution_count": null,
   "metadata": {},
   "outputs": [],
   "source": []
  },
  {
   "cell_type": "code",
   "execution_count": 5,
   "metadata": {},
   "outputs": [],
   "source": [
    "# dataframe to stow results\n",
    "results = pd.DataFrame(columns=['model', 'r2', 'mse'])"
   ]
  },
  {
   "cell_type": "code",
   "execution_count": null,
   "metadata": {},
   "outputs": [],
   "source": []
  },
  {
   "cell_type": "code",
   "execution_count": 10,
   "metadata": {},
   "outputs": [],
   "source": [
    "# model 1: train linear regression\n",
    "lin_reg = LinearRegression()\n",
    "lin_reg.fit(X_train, y_train)\n",
    "y_pred = lin_reg.predict(X_test)"
   ]
  },
  {
   "cell_type": "code",
   "execution_count": 11,
   "metadata": {},
   "outputs": [
    {
     "name": "stdout",
     "output_type": "stream",
     "text": [
      "r2: 1.0\n",
      "mse: 8.102028042417428e-25\n"
     ]
    }
   ],
   "source": [
    "# model 1: results\n",
    "r2 = r2_score(y_pred, y_test)\n",
    "mse = mean_squared_error(y_pred, y_test)\n",
    "print(f'r2: {r2}\\nmse: {mse}')"
   ]
  },
  {
   "cell_type": "code",
   "execution_count": 8,
   "metadata": {},
   "outputs": [],
   "source": [
    "# model 1: add to df\n",
    "row = ['ols', r2, mse]\n",
    "results.loc[len(results)] = row"
   ]
  },
  {
   "cell_type": "code",
   "execution_count": null,
   "metadata": {},
   "outputs": [],
   "source": []
  },
  {
   "cell_type": "code",
   "execution_count": 9,
   "metadata": {},
   "outputs": [],
   "source": [
    "# model 2: train KFold linear regrssion\n",
    "kf = KFold(n_splits=10)\n",
    "\n",
    "r2s = []\n",
    "mses = []\n",
    "\n",
    "for train_index, test_index in kf.split(X_train):\n",
    "    X_split_train, X_split_test = X.iloc[train_index, :], X.iloc[test_index, :]\n",
    "    y_split_train, y_split_test = y.iloc[train_index], y.iloc[test_index]\n",
    "    \n",
    "    lin_reg = LinearRegression()\n",
    "    lin_reg.fit(X_split_train, y_split_train)\n",
    "    y_split_pred = lin_reg.predict(X_split_test)\n",
    "    \n",
    "    r2s.append(r2_score(y_split_pred, y_split_test))\n",
    "    mses.append(mean_squared_error(y_split_pred, y_split_test))"
   ]
  },
  {
   "cell_type": "code",
   "execution_count": 10,
   "metadata": {},
   "outputs": [
    {
     "name": "stdout",
     "output_type": "stream",
     "text": [
      "r2: 1.0\n",
      "mse: 3.7351701826608365e-24\n"
     ]
    }
   ],
   "source": [
    "# model 2: evaluation\n",
    "y_pred = lin_reg.predict(X_test)\n",
    "r2 = r2_score(y_pred, y_test)\n",
    "mse = mean_squared_error(y_pred, y_test)\n",
    "print(f'r2: {r2}\\nmse: {mse}')"
   ]
  },
  {
   "cell_type": "code",
   "execution_count": 11,
   "metadata": {},
   "outputs": [],
   "source": [
    "# model 2: add to df\n",
    "row = ['ols w/ KFold', r2, mse]\n",
    "results.loc[len(results)] = row"
   ]
  },
  {
   "cell_type": "code",
   "execution_count": null,
   "metadata": {},
   "outputs": [],
   "source": []
  },
  {
   "cell_type": "code",
   "execution_count": 12,
   "metadata": {},
   "outputs": [],
   "source": [
    "# model 3: build GridSearchCV\n",
    "params = {'copy_X': [False, True], 'fit_intercept': [False, True], 'normalize': [False, True]}\n",
    "\n",
    "lin_reg = LinearRegression()\n",
    "gs = GridSearchCV(lin_reg, params, n_jobs=-1, scoring='r2', verbose=True)"
   ]
  },
  {
   "cell_type": "code",
   "execution_count": 13,
   "metadata": {},
   "outputs": [
    {
     "name": "stdout",
     "output_type": "stream",
     "text": [
      "Fitting 5 folds for each of 8 candidates, totalling 40 fits\n"
     ]
    },
    {
     "name": "stderr",
     "output_type": "stream",
     "text": [
      "[Parallel(n_jobs=-1)]: Using backend LokyBackend with 16 concurrent workers.\n",
      "[Parallel(n_jobs=-1)]: Done  40 out of  40 | elapsed:    2.7s finished\n"
     ]
    },
    {
     "data": {
      "text/plain": [
       "GridSearchCV(estimator=LinearRegression(), n_jobs=-1,\n",
       "             param_grid={'copy_X': [False, True],\n",
       "                         'fit_intercept': [False, True],\n",
       "                         'normalize': [False, True]},\n",
       "             scoring='r2', verbose=True)"
      ]
     },
     "execution_count": 13,
     "metadata": {},
     "output_type": "execute_result"
    }
   ],
   "source": [
    "# model 3: fit\n",
    "gs.fit(X_train, y_train)"
   ]
  },
  {
   "cell_type": "code",
   "execution_count": 14,
   "metadata": {},
   "outputs": [
    {
     "name": "stdout",
     "output_type": "stream",
     "text": [
      "r2: 1.0\n",
      "mse: 1.1342383450057754e-23\n"
     ]
    }
   ],
   "source": [
    "# model 3: evaluation\n",
    "best_gs = gs.best_estimator_\n",
    "y_pred = best_gs.predict(X_test)\n",
    "r2 = r2_score(y_pred, y_test)\n",
    "mse = mean_squared_error(y_pred, y_test)\n",
    "print(f'r2: {r2}\\nmse: {mse}')"
   ]
  },
  {
   "cell_type": "code",
   "execution_count": 15,
   "metadata": {},
   "outputs": [],
   "source": [
    "# model 3: add to df\n",
    "row = ['ols w/ gridsearch', r2, mse]\n",
    "results.loc[len(results)] = row"
   ]
  },
  {
   "cell_type": "code",
   "execution_count": null,
   "metadata": {},
   "outputs": [],
   "source": []
  },
  {
   "cell_type": "code",
   "execution_count": 16,
   "metadata": {},
   "outputs": [],
   "source": [
    "# model 4: build GridSearchCV Lasso\n",
    "params = {'alpha': [0.005, 0.05, 0.1, 0.5, 0.9], 'fit_intercept': [False, True], 'normalize': [False, True]}\n",
    "\n",
    "lasso = Lasso()\n",
    "gs = GridSearchCV(lasso, params, n_jobs=-1, scoring='r2', verbose=True)"
   ]
  },
  {
   "cell_type": "code",
   "execution_count": 17,
   "metadata": {},
   "outputs": [
    {
     "name": "stderr",
     "output_type": "stream",
     "text": [
      "[Parallel(n_jobs=-1)]: Using backend LokyBackend with 16 concurrent workers.\n"
     ]
    },
    {
     "name": "stdout",
     "output_type": "stream",
     "text": [
      "Fitting 5 folds for each of 20 candidates, totalling 100 fits\n"
     ]
    },
    {
     "name": "stderr",
     "output_type": "stream",
     "text": [
      "[Parallel(n_jobs=-1)]: Done  18 tasks      | elapsed:    0.1s\n"
     ]
    },
    {
     "name": "stdout",
     "output_type": "stream",
     "text": [
      "{'alpha': 0.005, 'fit_intercept': True, 'normalize': False}\n"
     ]
    },
    {
     "name": "stderr",
     "output_type": "stream",
     "text": [
      "[Parallel(n_jobs=-1)]: Done 100 out of 100 | elapsed:    0.4s finished\n"
     ]
    }
   ],
   "source": [
    "# model 4: fit\n",
    "gs.fit(X_train, y_train)\n",
    "print(gs.best_params_)"
   ]
  },
  {
   "cell_type": "code",
   "execution_count": 18,
   "metadata": {},
   "outputs": [
    {
     "name": "stdout",
     "output_type": "stream",
     "text": [
      "r2: 0.9999999991156046\n",
      "mse: 3.6932446403034015e-06\n"
     ]
    }
   ],
   "source": [
    "# model 4: evaluation\n",
    "best_gs = gs.best_estimator_\n",
    "y_pred = best_gs.predict(X_test)\n",
    "r2 = r2_score(y_pred, y_test)\n",
    "mse = mean_squared_error(y_pred, y_test)\n",
    "print(f'r2: {r2}\\nmse: {mse}')"
   ]
  },
  {
   "cell_type": "code",
   "execution_count": 19,
   "metadata": {},
   "outputs": [],
   "source": [
    "# model 4: add to df\n",
    "row = ['lasso', r2, mse]\n",
    "results.loc[len(results)] = row"
   ]
  },
  {
   "cell_type": "code",
   "execution_count": null,
   "metadata": {},
   "outputs": [],
   "source": []
  },
  {
   "cell_type": "code",
   "execution_count": 20,
   "metadata": {},
   "outputs": [],
   "source": [
    "# model 5: build GridSearchCV Ridge\n",
    "params = {'alpha': [0.005, 0.05, 0.1, 0.5, 0.9], 'fit_intercept': [False, True], 'normalize': [False, True]}\n",
    "\n",
    "ridge = Ridge()\n",
    "gs = GridSearchCV(ridge, params, n_jobs=-1, scoring='r2', verbose=True)"
   ]
  },
  {
   "cell_type": "code",
   "execution_count": 21,
   "metadata": {},
   "outputs": [
    {
     "name": "stderr",
     "output_type": "stream",
     "text": [
      "[Parallel(n_jobs=-1)]: Using backend LokyBackend with 16 concurrent workers.\n",
      "[Parallel(n_jobs=-1)]: Done  18 tasks      | elapsed:    0.1s\n"
     ]
    },
    {
     "name": "stdout",
     "output_type": "stream",
     "text": [
      "Fitting 5 folds for each of 20 candidates, totalling 100 fits\n",
      "{'alpha': 0.005, 'fit_intercept': False, 'normalize': False}\n"
     ]
    },
    {
     "name": "stderr",
     "output_type": "stream",
     "text": [
      "[Parallel(n_jobs=-1)]: Done 100 out of 100 | elapsed:    0.3s finished\n"
     ]
    }
   ],
   "source": [
    "# model 5: fit\n",
    "gs.fit(X_train, y_train)\n",
    "print(gs.best_params_)"
   ]
  },
  {
   "cell_type": "code",
   "execution_count": 22,
   "metadata": {},
   "outputs": [
    {
     "name": "stdout",
     "output_type": "stream",
     "text": [
      "r2: 1.0\n",
      "mse: 1.7315157709146682e-15\n"
     ]
    }
   ],
   "source": [
    "# model 5: evaluation\n",
    "best_gs = gs.best_estimator_\n",
    "y_pred = best_gs.predict(X_test)\n",
    "r2 = r2_score(y_pred, y_test)\n",
    "mse = mean_squared_error(y_pred, y_test)\n",
    "print(f'r2: {r2}\\nmse: {mse}')"
   ]
  },
  {
   "cell_type": "code",
   "execution_count": 23,
   "metadata": {},
   "outputs": [],
   "source": [
    "# model 5: add to df\n",
    "row = ['ridge', r2, mse]\n",
    "results.loc[len(results)] = row"
   ]
  },
  {
   "cell_type": "code",
   "execution_count": null,
   "metadata": {},
   "outputs": [],
   "source": []
  },
  {
   "cell_type": "code",
   "execution_count": 24,
   "metadata": {},
   "outputs": [],
   "source": [
    "# model 6: build GridSearchCV ElasticNet\n",
    "params = {'alpha': [0.005, 0.05, 0.1, 0.5, 0.9], 'l1_ratio': [0, 0.2, 0.4, 0.6, 0.8, 1], 'fit_intercept': [False, True], 'normalize': [False, True]}\n",
    "\n",
    "e_net = ElasticNet()\n",
    "gs = GridSearchCV(e_net, params, n_jobs=-1, scoring='r2', verbose=True)"
   ]
  },
  {
   "cell_type": "code",
   "execution_count": 25,
   "metadata": {},
   "outputs": [
    {
     "name": "stderr",
     "output_type": "stream",
     "text": [
      "[Parallel(n_jobs=-1)]: Using backend LokyBackend with 16 concurrent workers.\n"
     ]
    },
    {
     "name": "stdout",
     "output_type": "stream",
     "text": [
      "Fitting 5 folds for each of 120 candidates, totalling 600 fits\n"
     ]
    },
    {
     "name": "stderr",
     "output_type": "stream",
     "text": [
      "[Parallel(n_jobs=-1)]: Done  18 tasks      | elapsed:    0.2s\n",
      "[Parallel(n_jobs=-1)]: Done 524 tasks      | elapsed:    1.5s\n",
      "[Parallel(n_jobs=-1)]: Done 569 out of 600 | elapsed:    1.7s remaining:    0.1s\n"
     ]
    },
    {
     "name": "stdout",
     "output_type": "stream",
     "text": [
      "{'alpha': 0.005, 'fit_intercept': True, 'l1_ratio': 0, 'normalize': False}\n"
     ]
    },
    {
     "name": "stderr",
     "output_type": "stream",
     "text": [
      "[Parallel(n_jobs=-1)]: Done 600 out of 600 | elapsed:    1.8s finished\n"
     ]
    }
   ],
   "source": [
    "# model 6: fit\n",
    "gs.fit(X_train, y_train)\n",
    "print(gs.best_params_)"
   ]
  },
  {
   "cell_type": "code",
   "execution_count": 26,
   "metadata": {},
   "outputs": [
    {
     "name": "stdout",
     "output_type": "stream",
     "text": [
      "r2: 0.9999999999836848\n",
      "mse: 6.813103948379958e-08\n"
     ]
    }
   ],
   "source": [
    "# model 6: evaluation\n",
    "best_gs = gs.best_estimator_\n",
    "y_pred = best_gs.predict(X_test)\n",
    "r2 = r2_score(y_pred, y_test)\n",
    "mse = mean_squared_error(y_pred, y_test)\n",
    "print(f'r2: {r2}\\nmse: {mse}')"
   ]
  },
  {
   "cell_type": "code",
   "execution_count": 27,
   "metadata": {},
   "outputs": [],
   "source": [
    "# model 6: add to df\n",
    "row = ['elastic net', r2, mse]\n",
    "results.loc[len(results)] = row"
   ]
  },
  {
   "cell_type": "code",
   "execution_count": null,
   "metadata": {},
   "outputs": [],
   "source": []
  },
  {
   "cell_type": "code",
   "execution_count": null,
   "metadata": {},
   "outputs": [],
   "source": []
  },
  {
   "cell_type": "code",
   "execution_count": null,
   "metadata": {},
   "outputs": [],
   "source": []
  },
  {
   "cell_type": "code",
   "execution_count": null,
   "metadata": {},
   "outputs": [],
   "source": []
  },
  {
   "cell_type": "code",
   "execution_count": null,
   "metadata": {},
   "outputs": [],
   "source": []
  },
  {
   "cell_type": "code",
   "execution_count": null,
   "metadata": {},
   "outputs": [],
   "source": []
  },
  {
   "cell_type": "code",
   "execution_count": null,
   "metadata": {},
   "outputs": [],
   "source": []
  },
  {
   "cell_type": "code",
   "execution_count": null,
   "metadata": {},
   "outputs": [],
   "source": []
  },
  {
   "cell_type": "code",
   "execution_count": null,
   "metadata": {},
   "outputs": [],
   "source": []
  },
  {
   "cell_type": "code",
   "execution_count": null,
   "metadata": {},
   "outputs": [],
   "source": []
  },
  {
   "cell_type": "code",
   "execution_count": null,
   "metadata": {},
   "outputs": [],
   "source": []
  },
  {
   "cell_type": "code",
   "execution_count": null,
   "metadata": {},
   "outputs": [],
   "source": []
  },
  {
   "cell_type": "code",
   "execution_count": null,
   "metadata": {},
   "outputs": [],
   "source": []
  },
  {
   "cell_type": "code",
   "execution_count": 28,
   "metadata": {},
   "outputs": [
    {
     "data": {
      "text/html": [
       "<div>\n",
       "<style scoped>\n",
       "    .dataframe tbody tr th:only-of-type {\n",
       "        vertical-align: middle;\n",
       "    }\n",
       "\n",
       "    .dataframe tbody tr th {\n",
       "        vertical-align: top;\n",
       "    }\n",
       "\n",
       "    .dataframe thead th {\n",
       "        text-align: right;\n",
       "    }\n",
       "</style>\n",
       "<table border=\"1\" class=\"dataframe\">\n",
       "  <thead>\n",
       "    <tr style=\"text-align: right;\">\n",
       "      <th></th>\n",
       "      <th>model</th>\n",
       "      <th>r2</th>\n",
       "      <th>mse</th>\n",
       "    </tr>\n",
       "  </thead>\n",
       "  <tbody>\n",
       "    <tr>\n",
       "      <th>0</th>\n",
       "      <td>ols</td>\n",
       "      <td>1.0</td>\n",
       "      <td>6.315202e-25</td>\n",
       "    </tr>\n",
       "    <tr>\n",
       "      <th>1</th>\n",
       "      <td>ols w/ KFold</td>\n",
       "      <td>1.0</td>\n",
       "      <td>3.735170e-24</td>\n",
       "    </tr>\n",
       "    <tr>\n",
       "      <th>2</th>\n",
       "      <td>ols w/ gridsearch</td>\n",
       "      <td>1.0</td>\n",
       "      <td>1.134238e-23</td>\n",
       "    </tr>\n",
       "    <tr>\n",
       "      <th>3</th>\n",
       "      <td>lasso</td>\n",
       "      <td>1.0</td>\n",
       "      <td>3.693245e-06</td>\n",
       "    </tr>\n",
       "    <tr>\n",
       "      <th>4</th>\n",
       "      <td>ridge</td>\n",
       "      <td>1.0</td>\n",
       "      <td>1.731516e-15</td>\n",
       "    </tr>\n",
       "    <tr>\n",
       "      <th>5</th>\n",
       "      <td>elastic net</td>\n",
       "      <td>1.0</td>\n",
       "      <td>6.813104e-08</td>\n",
       "    </tr>\n",
       "  </tbody>\n",
       "</table>\n",
       "</div>"
      ],
      "text/plain": [
       "               model   r2           mse\n",
       "0                ols  1.0  6.315202e-25\n",
       "1       ols w/ KFold  1.0  3.735170e-24\n",
       "2  ols w/ gridsearch  1.0  1.134238e-23\n",
       "3              lasso  1.0  3.693245e-06\n",
       "4              ridge  1.0  1.731516e-15\n",
       "5        elastic net  1.0  6.813104e-08"
      ]
     },
     "execution_count": 28,
     "metadata": {},
     "output_type": "execute_result"
    }
   ],
   "source": [
    "results"
   ]
  },
  {
   "cell_type": "code",
   "execution_count": null,
   "metadata": {},
   "outputs": [],
   "source": []
  },
  {
   "cell_type": "code",
   "execution_count": null,
   "metadata": {},
   "outputs": [],
   "source": []
  },
  {
   "cell_type": "code",
   "execution_count": null,
   "metadata": {},
   "outputs": [],
   "source": []
  },
  {
   "cell_type": "code",
   "execution_count": null,
   "metadata": {},
   "outputs": [],
   "source": []
  },
  {
   "cell_type": "code",
   "execution_count": null,
   "metadata": {},
   "outputs": [],
   "source": []
  },
  {
   "cell_type": "code",
   "execution_count": null,
   "metadata": {},
   "outputs": [],
   "source": []
  },
  {
   "cell_type": "code",
   "execution_count": null,
   "metadata": {},
   "outputs": [],
   "source": []
  },
  {
   "cell_type": "code",
   "execution_count": null,
   "metadata": {},
   "outputs": [],
   "source": []
  },
  {
   "cell_type": "code",
   "execution_count": null,
   "metadata": {},
   "outputs": [],
   "source": []
  },
  {
   "cell_type": "code",
   "execution_count": null,
   "metadata": {},
   "outputs": [],
   "source": []
  }
 ],
 "metadata": {
  "kernelspec": {
   "display_name": "Python 3",
   "language": "python",
   "name": "python3"
  },
  "language_info": {
   "codemirror_mode": {
    "name": "ipython",
    "version": 3
   },
   "file_extension": ".py",
   "mimetype": "text/x-python",
   "name": "python",
   "nbconvert_exporter": "python",
   "pygments_lexer": "ipython3",
   "version": "3.8.5"
  }
 },
 "nbformat": 4,
 "nbformat_minor": 4
}
