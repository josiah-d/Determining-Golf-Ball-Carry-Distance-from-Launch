{
 "cells": [
  {
   "cell_type": "code",
   "execution_count": 62,
   "metadata": {},
   "outputs": [],
   "source": [
    "# imports\n",
    "from matplotlib import pyplot as plt\n",
    "import numpy as np\n",
    "import pandas as pd\n",
    "from sklearn.cross_decomposition import PLSRegression\n",
    "from sklearn.ensemble import RandomForestRegressor, GradientBoostingRegressor\n",
    "from sklearn.linear_model import LinearRegression, Lasso, Ridge, ElasticNet\n",
    "from sklearn.metrics import mean_squared_error, r2_score\n",
    "from sklearn.model_selection import train_test_split, KFold, GridSearchCV\n",
    "import xgboost as xgb"
   ]
  },
  {
   "cell_type": "code",
   "execution_count": 63,
   "metadata": {},
   "outputs": [],
   "source": [
    "# load data\n",
    "file_path = '../data/master.csv'\n",
    "\n",
    "df = pd.read_csv(file_path, index_col=0)"
   ]
  },
  {
   "cell_type": "code",
   "execution_count": 10,
   "metadata": {},
   "outputs": [],
   "source": [
    "# set X & y\n",
    "X = df.drop(['date', 'time', 'carry_distance', 'distance_to_pin', 'total_distance'], axis=1)\n",
    "X = pd.concat([X, pd.get_dummies(X['club_type'])], axis=1)\n",
    "X.drop('club_type', axis=1, inplace=True)\n",
    "\n",
    "y = df['carry_distance']"
   ]
  },
  {
   "cell_type": "code",
   "execution_count": 11,
   "metadata": {},
   "outputs": [],
   "source": [
    "# train, test split\n",
    "X_train, X_test, y_train, y_test = train_test_split(X, y)"
   ]
  },
  {
   "cell_type": "code",
   "execution_count": null,
   "metadata": {},
   "outputs": [],
   "source": []
  },
  {
   "cell_type": "code",
   "execution_count": 5,
   "metadata": {},
   "outputs": [],
   "source": [
    "# dataframe to stow results\n",
    "results = pd.DataFrame(columns=['model', 'r2', 'mse'])"
   ]
  },
  {
   "cell_type": "code",
   "execution_count": null,
   "metadata": {},
   "outputs": [],
   "source": []
  },
  {
   "cell_type": "code",
   "execution_count": 6,
   "metadata": {},
   "outputs": [],
   "source": [
    "# model 1: train linear regression\n",
    "lin_reg = LinearRegression()\n",
    "lin_reg.fit(X_train, y_train)\n",
    "y_pred = lin_reg.predict(X_test)"
   ]
  },
  {
   "cell_type": "code",
   "execution_count": 7,
   "metadata": {},
   "outputs": [
    {
     "name": "stdout",
     "output_type": "stream",
     "text": [
      "r2: 0.9094829970050005\n",
      "mse: 343.1936701022638\n"
     ]
    }
   ],
   "source": [
    "# model 1: results\n",
    "r2 = r2_score(y_pred, y_test)\n",
    "mse = mean_squared_error(y_pred, y_test)\n",
    "print(f'r2: {r2}\\nmse: {mse}')"
   ]
  },
  {
   "cell_type": "code",
   "execution_count": 8,
   "metadata": {},
   "outputs": [],
   "source": [
    "# model 1: add to df\n",
    "row = ['ols', r2, mse]\n",
    "results.loc[len(results)] = row"
   ]
  },
  {
   "cell_type": "code",
   "execution_count": null,
   "metadata": {},
   "outputs": [],
   "source": []
  },
  {
   "cell_type": "code",
   "execution_count": 9,
   "metadata": {},
   "outputs": [],
   "source": [
    "# model 2: train KFold linear regrssion\n",
    "kf = KFold(n_splits=10)\n",
    "\n",
    "r2s = []\n",
    "mses = []\n",
    "\n",
    "for train_index, test_index in kf.split(X_train):\n",
    "    X_split_train, X_split_test = X.iloc[train_index, :], X.iloc[test_index, :]\n",
    "    y_split_train, y_split_test = y.iloc[train_index], y.iloc[test_index]\n",
    "    \n",
    "    lin_reg = LinearRegression()\n",
    "    lin_reg.fit(X_split_train, y_split_train)\n",
    "    y_split_pred = lin_reg.predict(X_split_test)\n",
    "    \n",
    "    r2s.append(r2_score(y_split_pred, y_split_test))\n",
    "    mses.append(mean_squared_error(y_split_pred, y_split_test))"
   ]
  },
  {
   "cell_type": "code",
   "execution_count": 10,
   "metadata": {},
   "outputs": [
    {
     "name": "stdout",
     "output_type": "stream",
     "text": [
      "r2: 0.9096611492602901\n",
      "mse: 341.0768005066317\n"
     ]
    }
   ],
   "source": [
    "# model 2: evaluation\n",
    "y_pred = lin_reg.predict(X_test)\n",
    "r2 = r2_score(y_pred, y_test)\n",
    "mse = mean_squared_error(y_pred, y_test)\n",
    "print(f'r2: {r2}\\nmse: {mse}')"
   ]
  },
  {
   "cell_type": "code",
   "execution_count": 11,
   "metadata": {},
   "outputs": [],
   "source": [
    "# model 2: add to df\n",
    "row = ['ols w/ KFold', r2, mse]\n",
    "results.loc[len(results)] = row"
   ]
  },
  {
   "cell_type": "code",
   "execution_count": null,
   "metadata": {},
   "outputs": [],
   "source": []
  },
  {
   "cell_type": "code",
   "execution_count": 12,
   "metadata": {},
   "outputs": [],
   "source": [
    "# model 3: build GridSearchCV\n",
    "params = {'copy_X': [False, True], 'fit_intercept': [False, True], 'normalize': [False, True]}\n",
    "\n",
    "lin_reg = LinearRegression()\n",
    "gs = GridSearchCV(lin_reg, params, n_jobs=-1, scoring='r2', verbose=True)"
   ]
  },
  {
   "cell_type": "code",
   "execution_count": 13,
   "metadata": {},
   "outputs": [
    {
     "name": "stdout",
     "output_type": "stream",
     "text": [
      "Fitting 5 folds for each of 8 candidates, totalling 40 fits\n"
     ]
    },
    {
     "name": "stderr",
     "output_type": "stream",
     "text": [
      "[Parallel(n_jobs=-1)]: Using backend LokyBackend with 16 concurrent workers.\n",
      "[Parallel(n_jobs=-1)]: Done  40 out of  40 | elapsed:    2.9s finished\n"
     ]
    },
    {
     "data": {
      "text/plain": [
       "GridSearchCV(estimator=LinearRegression(), n_jobs=-1,\n",
       "             param_grid={'copy_X': [False, True],\n",
       "                         'fit_intercept': [False, True],\n",
       "                         'normalize': [False, True]},\n",
       "             scoring='r2', verbose=True)"
      ]
     },
     "execution_count": 13,
     "metadata": {},
     "output_type": "execute_result"
    }
   ],
   "source": [
    "# model 3: fit\n",
    "gs.fit(X_train, y_train)"
   ]
  },
  {
   "cell_type": "code",
   "execution_count": 14,
   "metadata": {},
   "outputs": [
    {
     "name": "stdout",
     "output_type": "stream",
     "text": [
      "r2: 0.9094829970049991\n",
      "mse: 343.19367010226404\n"
     ]
    }
   ],
   "source": [
    "# model 3: evaluation\n",
    "best_gs = gs.best_estimator_\n",
    "y_pred = best_gs.predict(X_test)\n",
    "r2 = r2_score(y_pred, y_test)\n",
    "mse = mean_squared_error(y_pred, y_test)\n",
    "print(f'r2: {r2}\\nmse: {mse}')"
   ]
  },
  {
   "cell_type": "code",
   "execution_count": 15,
   "metadata": {},
   "outputs": [],
   "source": [
    "# model 3: add to df\n",
    "row = ['ols w/ gridsearch', r2, mse]\n",
    "results.loc[len(results)] = row"
   ]
  },
  {
   "cell_type": "code",
   "execution_count": null,
   "metadata": {},
   "outputs": [],
   "source": []
  },
  {
   "cell_type": "code",
   "execution_count": 16,
   "metadata": {},
   "outputs": [],
   "source": [
    "# model 4: build GridSearchCV Lasso\n",
    "params = {'alpha': [0.005, 0.05, 0.1, 0.5, 0.9], 'fit_intercept': [False, True], 'normalize': [False, True]}\n",
    "\n",
    "lasso = Lasso()\n",
    "gs = GridSearchCV(lasso, params, n_jobs=-1, scoring='r2', verbose=True)"
   ]
  },
  {
   "cell_type": "code",
   "execution_count": 17,
   "metadata": {},
   "outputs": [
    {
     "name": "stderr",
     "output_type": "stream",
     "text": [
      "[Parallel(n_jobs=-1)]: Using backend LokyBackend with 16 concurrent workers.\n",
      "[Parallel(n_jobs=-1)]: Done  18 tasks      | elapsed:    0.1s\n"
     ]
    },
    {
     "name": "stdout",
     "output_type": "stream",
     "text": [
      "Fitting 5 folds for each of 20 candidates, totalling 100 fits\n",
      "{'alpha': 0.1, 'fit_intercept': True, 'normalize': False}\n"
     ]
    },
    {
     "name": "stderr",
     "output_type": "stream",
     "text": [
      "[Parallel(n_jobs=-1)]: Done 100 out of 100 | elapsed:    0.4s finished\n"
     ]
    }
   ],
   "source": [
    "# model 4: fit\n",
    "gs.fit(X_train, y_train)\n",
    "print(gs.best_params_)"
   ]
  },
  {
   "cell_type": "code",
   "execution_count": 18,
   "metadata": {},
   "outputs": [
    {
     "name": "stdout",
     "output_type": "stream",
     "text": [
      "r2: 0.9095814810363053\n",
      "mse: 342.4197423967618\n"
     ]
    }
   ],
   "source": [
    "# model 4: evaluation\n",
    "best_gs = gs.best_estimator_\n",
    "y_pred = best_gs.predict(X_test)\n",
    "r2 = r2_score(y_pred, y_test)\n",
    "mse = mean_squared_error(y_pred, y_test)\n",
    "print(f'r2: {r2}\\nmse: {mse}')"
   ]
  },
  {
   "cell_type": "code",
   "execution_count": 19,
   "metadata": {},
   "outputs": [],
   "source": [
    "# model 4: add to df\n",
    "row = ['lasso', r2, mse]\n",
    "results.loc[len(results)] = row"
   ]
  },
  {
   "cell_type": "code",
   "execution_count": null,
   "metadata": {},
   "outputs": [],
   "source": []
  },
  {
   "cell_type": "code",
   "execution_count": 20,
   "metadata": {},
   "outputs": [],
   "source": [
    "# model 5: build GridSearchCV Ridge\n",
    "params = {'alpha': [0.005, 0.05, 0.1, 0.5, 0.9], 'fit_intercept': [False, True], 'normalize': [False, True]}\n",
    "\n",
    "ridge = Ridge()\n",
    "gs = GridSearchCV(ridge, params, n_jobs=-1, scoring='r2', verbose=True)"
   ]
  },
  {
   "cell_type": "code",
   "execution_count": 21,
   "metadata": {},
   "outputs": [
    {
     "name": "stderr",
     "output_type": "stream",
     "text": [
      "[Parallel(n_jobs=-1)]: Using backend LokyBackend with 16 concurrent workers.\n",
      "[Parallel(n_jobs=-1)]: Done  18 tasks      | elapsed:    0.1s\n"
     ]
    },
    {
     "name": "stdout",
     "output_type": "stream",
     "text": [
      "Fitting 5 folds for each of 20 candidates, totalling 100 fits\n",
      "{'alpha': 0.9, 'fit_intercept': True, 'normalize': False}\n"
     ]
    },
    {
     "name": "stderr",
     "output_type": "stream",
     "text": [
      "[Parallel(n_jobs=-1)]: Done 100 out of 100 | elapsed:    0.3s finished\n"
     ]
    }
   ],
   "source": [
    "# model 5: fit\n",
    "gs.fit(X_train, y_train)\n",
    "print(gs.best_params_)"
   ]
  },
  {
   "cell_type": "code",
   "execution_count": 22,
   "metadata": {},
   "outputs": [
    {
     "name": "stdout",
     "output_type": "stream",
     "text": [
      "r2: 0.9094832861744216\n",
      "mse: 343.19023324539035\n"
     ]
    }
   ],
   "source": [
    "# model 5: evaluation\n",
    "best_gs = gs.best_estimator_\n",
    "y_pred = best_gs.predict(X_test)\n",
    "r2 = r2_score(y_pred, y_test)\n",
    "mse = mean_squared_error(y_pred, y_test)\n",
    "print(f'r2: {r2}\\nmse: {mse}')"
   ]
  },
  {
   "cell_type": "code",
   "execution_count": 23,
   "metadata": {},
   "outputs": [],
   "source": [
    "# model 5: add to df\n",
    "row = ['ridge', r2, mse]\n",
    "results.loc[len(results)] = row"
   ]
  },
  {
   "cell_type": "code",
   "execution_count": null,
   "metadata": {},
   "outputs": [],
   "source": []
  },
  {
   "cell_type": "code",
   "execution_count": 24,
   "metadata": {},
   "outputs": [],
   "source": [
    "# model 6: build GridSearchCV ElasticNet\n",
    "params = {'alpha': [0.005, 0.05, 0.1, 0.5, 0.9], 'l1_ratio': [0, 0.2, 0.4, 0.6, 0.8, 1], 'fit_intercept': [False, True], 'normalize': [False, True]}\n",
    "\n",
    "e_net = ElasticNet()\n",
    "gs = GridSearchCV(e_net, params, n_jobs=-1, scoring='r2', verbose=True)"
   ]
  },
  {
   "cell_type": "code",
   "execution_count": 25,
   "metadata": {},
   "outputs": [
    {
     "name": "stderr",
     "output_type": "stream",
     "text": [
      "[Parallel(n_jobs=-1)]: Using backend LokyBackend with 16 concurrent workers.\n"
     ]
    },
    {
     "name": "stdout",
     "output_type": "stream",
     "text": [
      "Fitting 5 folds for each of 120 candidates, totalling 600 fits\n"
     ]
    },
    {
     "name": "stderr",
     "output_type": "stream",
     "text": [
      "[Parallel(n_jobs=-1)]: Done  18 tasks      | elapsed:    0.3s\n",
      "[Parallel(n_jobs=-1)]: Done 320 tasks      | elapsed:    1.8s\n"
     ]
    },
    {
     "name": "stdout",
     "output_type": "stream",
     "text": [
      "{'alpha': 0.1, 'fit_intercept': True, 'l1_ratio': 1, 'normalize': False}\n"
     ]
    },
    {
     "name": "stderr",
     "output_type": "stream",
     "text": [
      "[Parallel(n_jobs=-1)]: Done 569 out of 600 | elapsed:    2.8s remaining:    0.2s\n",
      "[Parallel(n_jobs=-1)]: Done 600 out of 600 | elapsed:    2.9s finished\n"
     ]
    }
   ],
   "source": [
    "# model 6: fit\n",
    "gs.fit(X_train, y_train)\n",
    "print(gs.best_params_)"
   ]
  },
  {
   "cell_type": "code",
   "execution_count": 26,
   "metadata": {},
   "outputs": [
    {
     "name": "stdout",
     "output_type": "stream",
     "text": [
      "r2: 0.9095814810363053\n",
      "mse: 342.4197423967618\n"
     ]
    }
   ],
   "source": [
    "# model 6: evaluation\n",
    "best_gs = gs.best_estimator_\n",
    "y_pred = best_gs.predict(X_test)\n",
    "r2 = r2_score(y_pred, y_test)\n",
    "mse = mean_squared_error(y_pred, y_test)\n",
    "print(f'r2: {r2}\\nmse: {mse}')"
   ]
  },
  {
   "cell_type": "code",
   "execution_count": 27,
   "metadata": {},
   "outputs": [],
   "source": [
    "# model 6: add to df\n",
    "row = ['elastic net', r2, mse]\n",
    "results.loc[len(results)] = row"
   ]
  },
  {
   "cell_type": "code",
   "execution_count": null,
   "metadata": {},
   "outputs": [],
   "source": []
  },
  {
   "cell_type": "code",
   "execution_count": 35,
   "metadata": {},
   "outputs": [],
   "source": [
    "# model 7: build GridSearchCV PLSRegression\n",
    "params = {'n_components': [2, 3, 4, 5, 6, 7, 8, 9, 10, 11, 12, 13, 14, 15], 'scale': [False, True],\n",
    "         'tol': [0.000000001, 0.00000001, 0.0000001, 0.000001, 0.00001, 0.0001]}\n",
    "\n",
    "pls = PLSRegression()\n",
    "gs = GridSearchCV(pls, params, n_jobs=-1, scoring='r2', verbose=True)"
   ]
  },
  {
   "cell_type": "code",
   "execution_count": 36,
   "metadata": {},
   "outputs": [
    {
     "name": "stdout",
     "output_type": "stream",
     "text": [
      "Fitting 5 folds for each of 168 candidates, totalling 840 fits\n"
     ]
    },
    {
     "name": "stderr",
     "output_type": "stream",
     "text": [
      "[Parallel(n_jobs=-1)]: Using backend LokyBackend with 16 concurrent workers.\n",
      "[Parallel(n_jobs=-1)]: Done  18 tasks      | elapsed:    0.1s\n",
      "[Parallel(n_jobs=-1)]: Done 512 tasks      | elapsed:    1.7s\n"
     ]
    },
    {
     "name": "stdout",
     "output_type": "stream",
     "text": [
      "{'n_components': 11, 'scale': False, 'tol': 1e-09}\n"
     ]
    },
    {
     "name": "stderr",
     "output_type": "stream",
     "text": [
      "[Parallel(n_jobs=-1)]: Done 840 out of 840 | elapsed:    3.3s finished\n"
     ]
    }
   ],
   "source": [
    "# model 7: fit\n",
    "gs.fit(X_train, y_train)\n",
    "print(gs.best_params_)"
   ]
  },
  {
   "cell_type": "code",
   "execution_count": 38,
   "metadata": {},
   "outputs": [
    {
     "name": "stdout",
     "output_type": "stream",
     "text": [
      "r2: 0.9095761567121046\n",
      "mse: 342.9061530682988\n"
     ]
    }
   ],
   "source": [
    "# model 7: evaluation\n",
    "best_gs = gs.best_estimator_\n",
    "y_pred = best_gs.predict(X_test)\n",
    "r2 = r2_score(y_pred, y_test)\n",
    "mse = mean_squared_error(y_pred, y_test)\n",
    "print(f'r2: {r2}\\nmse: {mse}')"
   ]
  },
  {
   "cell_type": "code",
   "execution_count": 39,
   "metadata": {},
   "outputs": [],
   "source": [
    "# model 7: add to df\n",
    "row = ['pls regression', r2, mse]\n",
    "results.loc[len(results)] = row"
   ]
  },
  {
   "cell_type": "code",
   "execution_count": null,
   "metadata": {},
   "outputs": [],
   "source": []
  },
  {
   "cell_type": "code",
   "execution_count": 42,
   "metadata": {},
   "outputs": [],
   "source": [
    "# model 8: build GridSearchCV RandomForestRegressor\n",
    "params = {'n_estimators': [10, 100, 1000, 10000], 'max_depth': [None, 3, 7, 9, 15],\n",
    "         'max_features': ['auto', 'sqrt', 'log2'], 'bootstrap': [False, True]}\n",
    "\n",
    "rfr = RandomForestRegressor()\n",
    "gs = GridSearchCV(rfr, params, n_jobs=-1, scoring='r2', verbose=True)"
   ]
  },
  {
   "cell_type": "code",
   "execution_count": 43,
   "metadata": {},
   "outputs": [
    {
     "name": "stdout",
     "output_type": "stream",
     "text": [
      "Fitting 5 folds for each of 120 candidates, totalling 600 fits\n"
     ]
    },
    {
     "name": "stderr",
     "output_type": "stream",
     "text": [
      "[Parallel(n_jobs=-1)]: Using backend LokyBackend with 16 concurrent workers.\n",
      "[Parallel(n_jobs=-1)]: Done  18 tasks      | elapsed:    9.2s\n",
      "/Users/josiah/opt/anaconda3/lib/python3.8/site-packages/joblib/externals/loky/process_executor.py:688: UserWarning: A worker stopped while some jobs were given to the executor. This can be caused by a too short worker timeout or by a memory leak.\n",
      "  warnings.warn(\n",
      "[Parallel(n_jobs=-1)]: Done 168 tasks      | elapsed: 15.5min\n",
      "[Parallel(n_jobs=-1)]: Done 418 tasks      | elapsed: 51.8min\n",
      "[Parallel(n_jobs=-1)]: Done 600 out of 600 | elapsed: 70.4min finished\n"
     ]
    },
    {
     "name": "stdout",
     "output_type": "stream",
     "text": [
      "{'bootstrap': True, 'max_depth': None, 'max_features': 'auto', 'n_estimators': 10000}\n"
     ]
    }
   ],
   "source": [
    "# model 8: fit\n",
    "gs.fit(X_train, y_train)\n",
    "print(gs.best_params_)"
   ]
  },
  {
   "cell_type": "code",
   "execution_count": 44,
   "metadata": {},
   "outputs": [
    {
     "name": "stdout",
     "output_type": "stream",
     "text": [
      "r2: 0.9847607586056802\n",
      "mse: 61.90496394602656\n"
     ]
    }
   ],
   "source": [
    "# model 8: evaluation\n",
    "best_gs = gs.best_estimator_\n",
    "y_pred = best_gs.predict(X_test)\n",
    "r2 = r2_score(y_pred, y_test)\n",
    "mse = mean_squared_error(y_pred, y_test)\n",
    "print(f'r2: {r2}\\nmse: {mse}')"
   ]
  },
  {
   "cell_type": "code",
   "execution_count": 47,
   "metadata": {},
   "outputs": [],
   "source": [
    "# model 8: add to df\n",
    "row = ['rfr', r2, mse]\n",
    "results.loc[len(results)] = row"
   ]
  },
  {
   "cell_type": "code",
   "execution_count": null,
   "metadata": {},
   "outputs": [],
   "source": []
  },
  {
   "cell_type": "code",
   "execution_count": 51,
   "metadata": {},
   "outputs": [],
   "source": [
    "# model 9: build GridSearchCV GradientBoostingRegressor\n",
    "params = {'n_estimators': [10, 100, 1000, 10000], 'subsample': [0.01, 0.1, 0.5, 0.9, 0.99],\n",
    "          'criterion': ['mse'], 'max_depth': [3, 7, 9, 15], 'max_features': ['auto', 'sqrt', 'log2']}\n",
    "\n",
    "gbr = GradientBoostingRegressor()\n",
    "gs = GridSearchCV(gbr, params, n_jobs=-1, scoring='r2', verbose=True)"
   ]
  },
  {
   "cell_type": "code",
   "execution_count": 52,
   "metadata": {},
   "outputs": [
    {
     "name": "stdout",
     "output_type": "stream",
     "text": [
      "Fitting 5 folds for each of 180 candidates, totalling 900 fits\n"
     ]
    },
    {
     "name": "stderr",
     "output_type": "stream",
     "text": [
      "[Parallel(n_jobs=-1)]: Using backend LokyBackend with 16 concurrent workers.\n",
      "[Parallel(n_jobs=-1)]: Done  18 tasks      | elapsed:    2.7s\n",
      "[Parallel(n_jobs=-1)]: Done 168 tasks      | elapsed:   27.5s\n",
      "[Parallel(n_jobs=-1)]: Done 418 tasks      | elapsed:  1.8min\n",
      "[Parallel(n_jobs=-1)]: Done 768 tasks      | elapsed:  4.5min\n",
      "[Parallel(n_jobs=-1)]: Done 900 out of 900 | elapsed:  7.0min finished\n"
     ]
    },
    {
     "name": "stdout",
     "output_type": "stream",
     "text": [
      "{'criterion': 'mse', 'max_depth': 7, 'max_features': 'auto', 'n_estimators': 1000, 'subsample': 0.9}\n"
     ]
    }
   ],
   "source": [
    "# model 9: fit\n",
    "gs.fit(X_train, y_train)\n",
    "print(gs.best_params_)"
   ]
  },
  {
   "cell_type": "code",
   "execution_count": 53,
   "metadata": {},
   "outputs": [
    {
     "name": "stdout",
     "output_type": "stream",
     "text": [
      "r2: 0.9897507253879355\n",
      "mse: 42.27320452072378\n"
     ]
    }
   ],
   "source": [
    "# model 9: evaluation\n",
    "best_gs = gs.best_estimator_\n",
    "y_pred = best_gs.predict(X_test)\n",
    "r2 = r2_score(y_pred, y_test)\n",
    "mse = mean_squared_error(y_pred, y_test)\n",
    "print(f'r2: {r2}\\nmse: {mse}')"
   ]
  },
  {
   "cell_type": "code",
   "execution_count": 54,
   "metadata": {},
   "outputs": [],
   "source": [
    "# model 9: add to df\n",
    "row = ['gbr', r2, mse]\n",
    "results.loc[len(results)] = row"
   ]
  },
  {
   "cell_type": "code",
   "execution_count": null,
   "metadata": {},
   "outputs": [],
   "source": []
  },
  {
   "cell_type": "code",
   "execution_count": 71,
   "metadata": {},
   "outputs": [],
   "source": [
    "# model 10: build GridSearchCV RandomForestRegressor\n",
    "params = {'n_estimators': [1000, 5000, 10000], 'max_depth': [None],\n",
    "         'max_features': ['auto'], 'bootstrap': [True]}\n",
    "\n",
    "rfr = RandomForestRegressor()\n",
    "gs = GridSearchCV(rfr, params, n_jobs=-1, scoring='r2', verbose=True)"
   ]
  },
  {
   "cell_type": "code",
   "execution_count": 72,
   "metadata": {},
   "outputs": [
    {
     "name": "stdout",
     "output_type": "stream",
     "text": [
      "Fitting 5 folds for each of 3 candidates, totalling 15 fits\n"
     ]
    },
    {
     "name": "stderr",
     "output_type": "stream",
     "text": [
      "[Parallel(n_jobs=-1)]: Using backend LokyBackend with 16 concurrent workers.\n",
      "[Parallel(n_jobs=-1)]: Done  15 out of  15 | elapsed:  6.0min finished\n"
     ]
    },
    {
     "name": "stdout",
     "output_type": "stream",
     "text": [
      "{'bootstrap': True, 'max_depth': None, 'max_features': 'auto', 'n_estimators': 10000}\n"
     ]
    }
   ],
   "source": [
    "# model 10: fit\n",
    "gs.fit(X_train, y_train)\n",
    "print(gs.best_params_)"
   ]
  },
  {
   "cell_type": "code",
   "execution_count": 73,
   "metadata": {},
   "outputs": [
    {
     "name": "stdout",
     "output_type": "stream",
     "text": [
      "r2: 0.9847423709805129\n",
      "mse: 61.96619354147312\n"
     ]
    }
   ],
   "source": [
    "# model 10: evaluation\n",
    "best_gs = gs.best_estimator_\n",
    "y_pred = best_gs.predict(X_test)\n",
    "r2 = r2_score(y_pred, y_test)\n",
    "mse = mean_squared_error(y_pred, y_test)\n",
    "print(f'r2: {r2}\\nmse: {mse}')"
   ]
  },
  {
   "cell_type": "code",
   "execution_count": 74,
   "metadata": {},
   "outputs": [],
   "source": [
    "# model 10: add to df\n",
    "row = ['rfr_2', r2, mse]\n",
    "results.loc[len(results)] = row"
   ]
  },
  {
   "cell_type": "code",
   "execution_count": null,
   "metadata": {},
   "outputs": [],
   "source": []
  },
  {
   "cell_type": "code",
   "execution_count": 75,
   "metadata": {},
   "outputs": [],
   "source": [
    "# model 11: build GridSearchCV GradientBoostingRegressor\n",
    "params = {'n_estimators': [1000, 5000, 10000], 'subsample': [0.9],\n",
    "          'criterion': ['mse'], 'max_depth': [7], 'max_features': ['auto']}\n",
    "\n",
    "gbr = GradientBoostingRegressor()\n",
    "gs = GridSearchCV(gbr, params, n_jobs=-1, scoring='r2', verbose=True)"
   ]
  },
  {
   "cell_type": "code",
   "execution_count": 76,
   "metadata": {},
   "outputs": [
    {
     "name": "stdout",
     "output_type": "stream",
     "text": [
      "Fitting 5 folds for each of 3 candidates, totalling 15 fits\n"
     ]
    },
    {
     "name": "stderr",
     "output_type": "stream",
     "text": [
      "[Parallel(n_jobs=-1)]: Using backend LokyBackend with 16 concurrent workers.\n",
      "[Parallel(n_jobs=-1)]: Done  15 out of  15 | elapsed:  5.0min finished\n"
     ]
    },
    {
     "name": "stdout",
     "output_type": "stream",
     "text": [
      "{'criterion': 'mse', 'max_depth': 7, 'max_features': 'auto', 'n_estimators': 1000, 'subsample': 0.9}\n"
     ]
    }
   ],
   "source": [
    "# model 11: fit\n",
    "gs.fit(X_train, y_train)\n",
    "print(gs.best_params_)"
   ]
  },
  {
   "cell_type": "code",
   "execution_count": 77,
   "metadata": {},
   "outputs": [
    {
     "name": "stdout",
     "output_type": "stream",
     "text": [
      "r2: 0.9906193277319932\n",
      "mse: 38.65906065945128\n"
     ]
    }
   ],
   "source": [
    "# model 11: evaluation\n",
    "best_gs = gs.best_estimator_\n",
    "y_pred = best_gs.predict(X_test)\n",
    "r2 = r2_score(y_pred, y_test)\n",
    "mse = mean_squared_error(y_pred, y_test)\n",
    "print(f'r2: {r2}\\nmse: {mse}')"
   ]
  },
  {
   "cell_type": "code",
   "execution_count": 78,
   "metadata": {},
   "outputs": [],
   "source": [
    "# model 11: add to df\n",
    "row = ['gbr_2', r2, mse]\n",
    "results.loc[len(results)] = row"
   ]
  },
  {
   "cell_type": "code",
   "execution_count": 128,
   "metadata": {},
   "outputs": [
    {
     "data": {
      "text/plain": [
       "array([0.7031684 , 0.00101758, 0.00918651, 0.00658252, 0.001676  ,\n",
       "       0.01785507, 0.0020862 , 0.0021585 , 0.12693684, 0.11134257,\n",
       "       0.00587352, 0.00153343, 0.00361449, 0.00100932, 0.00595917],\n",
       "      dtype=float32)"
      ]
     },
     "execution_count": 128,
     "metadata": {},
     "output_type": "execute_result"
    }
   ],
   "source": [
    "best_gs.feature_importances_"
   ]
  },
  {
   "cell_type": "code",
   "execution_count": null,
   "metadata": {},
   "outputs": [],
   "source": []
  },
  {
   "cell_type": "code",
   "execution_count": 112,
   "metadata": {},
   "outputs": [],
   "source": [
    "# model 12: XGBoost\n",
    "params = {'max_depth': [3, 7, 9, 15], 'subsample': [0.01, 0.1, 0.5, 0.9, 0.99],\n",
    "          'colsample_bytree': [0.01, 0.1, 0.5, 0.9, 0.99], 'n_estimators': [10, 100, 1000, 10000]}\n",
    "\n",
    "xgb_reg = xgb.XGBRegressor(objective='reg:squarederror')\n",
    "gs = GridSearchCV(xgb_reg, params, n_jobs=-1, scoring='r2', verbose=True)"
   ]
  },
  {
   "cell_type": "code",
   "execution_count": 113,
   "metadata": {},
   "outputs": [
    {
     "name": "stdout",
     "output_type": "stream",
     "text": [
      "Fitting 5 folds for each of 400 candidates, totalling 2000 fits\n"
     ]
    },
    {
     "name": "stderr",
     "output_type": "stream",
     "text": [
      "[Parallel(n_jobs=-1)]: Using backend LokyBackend with 16 concurrent workers.\n",
      "[Parallel(n_jobs=-1)]: Done  18 tasks      | elapsed:    2.0s\n",
      "[Parallel(n_jobs=-1)]: Done 168 tasks      | elapsed:  6.3min\n",
      "/Users/josiah/opt/anaconda3/lib/python3.8/site-packages/joblib/externals/loky/process_executor.py:688: UserWarning: A worker stopped while some jobs were given to the executor. This can be caused by a too short worker timeout or by a memory leak.\n",
      "  warnings.warn(\n",
      "[Parallel(n_jobs=-1)]: Done 418 tasks      | elapsed: 31.6min\n",
      "[Parallel(n_jobs=-1)]: Done 768 tasks      | elapsed: 60.0min\n",
      "[Parallel(n_jobs=-1)]: Done 1218 tasks      | elapsed: 103.8min\n",
      "[Parallel(n_jobs=-1)]: Done 1768 tasks      | elapsed: 160.2min\n",
      "[Parallel(n_jobs=-1)]: Done 2000 out of 2000 | elapsed: 194.2min finished\n"
     ]
    },
    {
     "name": "stdout",
     "output_type": "stream",
     "text": [
      "[13:39:41] WARNING: /Users/travis/build/dmlc/xgboost/src/objective/regression_obj.cu:171: reg:linear is now deprecated in favor of reg:squarederror.\n",
      "{'colsample_bytree': 0.99, 'max_depth': 3, 'n_estimators': 10000, 'subsample': 0.9}\n"
     ]
    }
   ],
   "source": [
    "# model 12: fit\n",
    "gs.fit(X_train, y_train)\n",
    "print(gs.best_params_)"
   ]
  },
  {
   "cell_type": "code",
   "execution_count": 114,
   "metadata": {},
   "outputs": [
    {
     "name": "stdout",
     "output_type": "stream",
     "text": [
      "r2: 0.987383612538495\n",
      "mse: 52.11877279159006\n"
     ]
    }
   ],
   "source": [
    "# model 12: evaluation\n",
    "best_gs = gs.best_estimator_\n",
    "y_pred = best_gs.predict(X_test)\n",
    "r2 = r2_score(y_pred, y_test)\n",
    "mse = mean_squared_error(y_pred, y_test)\n",
    "print(f'r2: {r2}\\nmse: {mse}')"
   ]
  },
  {
   "cell_type": "code",
   "execution_count": 115,
   "metadata": {},
   "outputs": [],
   "source": [
    "# model 12: add to df\n",
    "row = ['xgb', r2, mse]\n",
    "results.loc[len(results)] = row"
   ]
  },
  {
   "cell_type": "code",
   "execution_count": null,
   "metadata": {},
   "outputs": [],
   "source": []
  },
  {
   "cell_type": "code",
   "execution_count": 181,
   "metadata": {},
   "outputs": [],
   "source": [
    "# model 13: build GridSearchCV GradientBoostingRegressor\n",
    "params = {'criterion': ['mse'], 'max_depth': [4, 5, 6, 7, 8], 'max_features': ['auto'],\n",
    "          'subsample': [0.6 , 0.65, 0.7 , 0.75, 0.8 , 0.85, 0.9 , 0.95]}\n",
    "\n",
    "gbr = GradientBoostingRegressor()\n",
    "gs = GridSearchCV(gbr, params, n_jobs=None, scoring='r2', verbose=True)"
   ]
  },
  {
   "cell_type": "code",
   "execution_count": 182,
   "metadata": {},
   "outputs": [
    {
     "name": "stdout",
     "output_type": "stream",
     "text": [
      "Fitting 5 folds for each of 40 candidates, totalling 200 fits\n"
     ]
    },
    {
     "name": "stderr",
     "output_type": "stream",
     "text": [
      "[Parallel(n_jobs=1)]: Using backend SequentialBackend with 1 concurrent workers.\n",
      "[Parallel(n_jobs=1)]: Done 200 out of 200 | elapsed:  4.8min finished\n"
     ]
    },
    {
     "name": "stdout",
     "output_type": "stream",
     "text": [
      "{'criterion': 'mse', 'max_depth': 7, 'max_features': 'auto', 'subsample': 0.9}\n"
     ]
    }
   ],
   "source": [
    "# model 13: fit\n",
    "gs.fit(X_train, y_train)\n",
    "print(gs.best_params_)"
   ]
  },
  {
   "cell_type": "code",
   "execution_count": 183,
   "metadata": {},
   "outputs": [
    {
     "name": "stdout",
     "output_type": "stream",
     "text": [
      "r2: 0.9888404934847734\n",
      "mse: 46.74134688021586\n"
     ]
    }
   ],
   "source": [
    "# model 13: evaluation\n",
    "best_gs = gs.best_estimator_\n",
    "y_pred = best_gs.predict(X_test)\n",
    "r2 = r2_score(y_pred, y_test)\n",
    "mse = mean_squared_error(y_pred, y_test)\n",
    "print(f'r2: {r2}\\nmse: {mse}')"
   ]
  },
  {
   "cell_type": "code",
   "execution_count": 195,
   "metadata": {},
   "outputs": [],
   "source": [
    "# model 13: add to df\n",
    "row = ['gbr_3', r2, mse]\n",
    "results.loc[len(results)] = row"
   ]
  },
  {
   "cell_type": "code",
   "execution_count": null,
   "metadata": {},
   "outputs": [],
   "source": []
  },
  {
   "cell_type": "code",
   "execution_count": 188,
   "metadata": {},
   "outputs": [],
   "source": [
    "# model 14: build GridSearchCV GradientBoostingRegressor\n",
    "params = {'criterion': ['mse'], 'n_estimators': list(range(100, 2000, 200)),\n",
    "          'max_depth': [7], 'max_features': ['auto'],\n",
    "          'subsample': [0.9, 0.91, 0.92, 0.93, 0.94],\n",
    "          'loss': ['ls', 'lad', 'huber', 'quantile']}\n",
    "\n",
    "gbr = GradientBoostingRegressor()\n",
    "gs = GridSearchCV(gbr, params, n_jobs=None, scoring='r2', verbose=True)"
   ]
  },
  {
   "cell_type": "code",
   "execution_count": 189,
   "metadata": {},
   "outputs": [
    {
     "name": "stdout",
     "output_type": "stream",
     "text": [
      "Fitting 5 folds for each of 200 candidates, totalling 1000 fits\n"
     ]
    },
    {
     "name": "stderr",
     "output_type": "stream",
     "text": [
      "[Parallel(n_jobs=1)]: Using backend SequentialBackend with 1 concurrent workers.\n",
      "[Parallel(n_jobs=1)]: Done 1000 out of 1000 | elapsed: 385.6min finished\n"
     ]
    },
    {
     "name": "stdout",
     "output_type": "stream",
     "text": [
      "{'criterion': 'mse', 'loss': 'huber', 'max_depth': 7, 'max_features': 'auto', 'n_estimators': 1500, 'subsample': 0.91}\n"
     ]
    }
   ],
   "source": [
    "# model 14: fit\n",
    "gs.fit(X_train, y_train)\n",
    "print(gs.best_params_)"
   ]
  },
  {
   "cell_type": "code",
   "execution_count": 190,
   "metadata": {},
   "outputs": [
    {
     "name": "stdout",
     "output_type": "stream",
     "text": [
      "r2: 0.9911146708855083\n",
      "mse: 37.29707348946379\n"
     ]
    }
   ],
   "source": [
    "# model 14: evaluation\n",
    "best_gs = gs.best_estimator_\n",
    "y_pred = best_gs.predict(X_test)\n",
    "r2 = r2_score(y_pred, y_test)\n",
    "mse = mean_squared_error(y_pred, y_test)\n",
    "print(f'r2: {r2}\\nmse: {mse}')"
   ]
  },
  {
   "cell_type": "code",
   "execution_count": 193,
   "metadata": {},
   "outputs": [],
   "source": [
    "# model 14: add to df\n",
    "row = ['gbr_4', r2, mse]\n",
    "results.loc[len(results)] = row"
   ]
  },
  {
   "cell_type": "code",
   "execution_count": 199,
   "metadata": {},
   "outputs": [
    {
     "data": {
      "text/plain": [
       "array([8.03099876e-01, 2.62665718e-04, 5.36668580e-03, 4.33017109e-03,\n",
       "       9.35459579e-04, 7.15477885e-03, 6.23349669e-04, 1.07836508e-03,\n",
       "       1.03512418e-01, 7.33388512e-02, 4.42889470e-05, 3.77684901e-05,\n",
       "       1.04765735e-05, 1.71258673e-04, 3.35863464e-05])"
      ]
     },
     "execution_count": 199,
     "metadata": {},
     "output_type": "execute_result"
    }
   ],
   "source": [
    "best_gs.feature_importances_"
   ]
  },
  {
   "cell_type": "code",
   "execution_count": null,
   "metadata": {},
   "outputs": [],
   "source": []
  },
  {
   "cell_type": "code",
   "execution_count": 59,
   "metadata": {},
   "outputs": [],
   "source": [
    "# model 15: build GridSearchCV GradientBoostingRegressor\n",
    "gbr = GradientBoostingRegressor(criterion='mse', loss='huber', max_depth=7,\n",
    "                                max_features='auto', n_estimators=15000,\n",
    "                                subsample=0.91, learning_rate=0.01, verbose=True)"
   ]
  },
  {
   "cell_type": "code",
   "execution_count": 60,
   "metadata": {},
   "outputs": [
    {
     "name": "stdout",
     "output_type": "stream",
     "text": [
      "      Iter       Train Loss      OOB Improve   Remaining Time \n",
      "         1        2020.1759          37.5631           16.29m\n",
      "         2        1990.9217          37.5817           16.07m\n",
      "         3        1928.6463          40.8317           15.60m\n",
      "         4        1895.8303          39.1155           15.16m\n",
      "         5        1870.8426          36.3440           15.05m\n",
      "         6        1844.3446          33.5546           14.71m\n",
      "         7        1791.7510          35.6459           14.46m\n",
      "         8        1766.2871          32.8564           14.28m\n",
      "         9        1735.1431          32.1216           14.26m\n",
      "        10        1687.9880          34.3962           14.13m\n",
      "        20        1391.5097          28.1337           13.69m\n",
      "        30        1144.6714          22.3746           13.83m\n",
      "        40         945.5500          17.3597           13.68m\n",
      "        50         774.1242          15.5251           13.40m\n",
      "        60         634.5548          13.2751           13.33m\n",
      "        70         529.2069           9.7398           13.21m\n",
      "        80         441.6680           7.6587           13.13m\n",
      "        90         363.5042           6.5144           13.13m\n",
      "       100         301.8937           5.2384           13.27m\n",
      "       200          52.1649           0.8251           13.46m\n",
      "       300          14.0767           0.1317           13.02m\n",
      "       400           6.2009           0.0264           12.59m\n",
      "       500           3.7317           0.0129           12.21m\n",
      "       600           2.5496           0.0045           12.10m\n",
      "       700           1.8396           0.0038           11.80m\n",
      "       800           1.4828           0.0017           11.57m\n",
      "       900           1.1659           0.0012           11.39m\n",
      "      1000           1.0273           0.0001           11.14m\n",
      "      2000           0.3383          -0.0003            9.71m\n",
      "      3000           0.1647           0.0001            8.69m\n",
      "      4000           0.0864          -0.0000            7.96m\n",
      "      5000           0.0459          -0.0000            7.25m\n",
      "      6000           0.0282          -0.0000            6.51m\n",
      "      7000           0.0165          -0.0000            5.78m\n",
      "      8000           0.0106           0.0000            5.04m\n",
      "      9000           0.0062          -0.0000            4.31m\n",
      "     10000           0.0042           0.0000            3.58m\n"
     ]
    },
    {
     "data": {
      "text/plain": [
       "GradientBoostingRegressor(criterion='mse', learning_rate=0.01, loss='huber',\n",
       "                          max_depth=7, max_features='auto', n_estimators=15000,\n",
       "                          subsample=0.91, verbose=True)"
      ]
     },
     "execution_count": 60,
     "metadata": {},
     "output_type": "execute_result"
    }
   ],
   "source": [
    "# model 15: fit\n",
    "gbr.fit(X_train, y_train)"
   ]
  },
  {
   "cell_type": "code",
   "execution_count": 61,
   "metadata": {},
   "outputs": [
    {
     "name": "stdout",
     "output_type": "stream",
     "text": [
      "r2: 0.9914047299673584\n",
      "mse: 36.202149840937174\n"
     ]
    }
   ],
   "source": [
    "# model 15: evaluation\n",
    "y_pred = gbr.predict(X_test)\n",
    "r2 = r2_score(y_pred, y_test)\n",
    "mse = mean_squared_error(y_pred, y_test)\n",
    "print(f'r2: {r2}\\nmse: {mse}')"
   ]
  },
  {
   "cell_type": "code",
   "execution_count": null,
   "metadata": {},
   "outputs": [],
   "source": [
    "# model 14: add to df\n",
    "row = ['gbr_5', r2, mse]\n",
    "results.loc[len(results)] = row"
   ]
  },
  {
   "cell_type": "code",
   "execution_count": null,
   "metadata": {},
   "outputs": [],
   "source": []
  },
  {
   "cell_type": "code",
   "execution_count": null,
   "metadata": {},
   "outputs": [],
   "source": [
    "'''\n",
    "n_estimators=15000,\n",
    "learning_rate=0.01\n",
    "\n",
    "r2: 0.9915441206717956\n",
    "mse: 35.61463404577434\n",
    "'''\n",
    "\n",
    "\n",
    "'''\n",
    "n_estimators=150000,\n",
    "learning_rate=0.001\n",
    "\n",
    "r2: 0.9913024144985464\n",
    "mse: 36.63308990894179\n",
    "'''"
   ]
  },
  {
   "cell_type": "code",
   "execution_count": 196,
   "metadata": {},
   "outputs": [
    {
     "data": {
      "text/html": [
       "<div>\n",
       "<style scoped>\n",
       "    .dataframe tbody tr th:only-of-type {\n",
       "        vertical-align: middle;\n",
       "    }\n",
       "\n",
       "    .dataframe tbody tr th {\n",
       "        vertical-align: top;\n",
       "    }\n",
       "\n",
       "    .dataframe thead th {\n",
       "        text-align: right;\n",
       "    }\n",
       "</style>\n",
       "<table border=\"1\" class=\"dataframe\">\n",
       "  <thead>\n",
       "    <tr style=\"text-align: right;\">\n",
       "      <th></th>\n",
       "      <th>model</th>\n",
       "      <th>r2</th>\n",
       "      <th>mse</th>\n",
       "    </tr>\n",
       "  </thead>\n",
       "  <tbody>\n",
       "    <tr>\n",
       "      <th>0</th>\n",
       "      <td>ols</td>\n",
       "      <td>0.909483</td>\n",
       "      <td>343.193670</td>\n",
       "    </tr>\n",
       "    <tr>\n",
       "      <th>1</th>\n",
       "      <td>ols w/ KFold</td>\n",
       "      <td>0.909661</td>\n",
       "      <td>341.076801</td>\n",
       "    </tr>\n",
       "    <tr>\n",
       "      <th>2</th>\n",
       "      <td>ols w/ gridsearch</td>\n",
       "      <td>0.909483</td>\n",
       "      <td>343.193670</td>\n",
       "    </tr>\n",
       "    <tr>\n",
       "      <th>3</th>\n",
       "      <td>lasso</td>\n",
       "      <td>0.909581</td>\n",
       "      <td>342.419742</td>\n",
       "    </tr>\n",
       "    <tr>\n",
       "      <th>4</th>\n",
       "      <td>ridge</td>\n",
       "      <td>0.909483</td>\n",
       "      <td>343.190233</td>\n",
       "    </tr>\n",
       "    <tr>\n",
       "      <th>5</th>\n",
       "      <td>elastic net</td>\n",
       "      <td>0.909581</td>\n",
       "      <td>342.419742</td>\n",
       "    </tr>\n",
       "    <tr>\n",
       "      <th>6</th>\n",
       "      <td>pls regression</td>\n",
       "      <td>0.909576</td>\n",
       "      <td>342.906153</td>\n",
       "    </tr>\n",
       "    <tr>\n",
       "      <th>7</th>\n",
       "      <td>rfr</td>\n",
       "      <td>0.984761</td>\n",
       "      <td>61.904964</td>\n",
       "    </tr>\n",
       "    <tr>\n",
       "      <th>8</th>\n",
       "      <td>gbr</td>\n",
       "      <td>0.989751</td>\n",
       "      <td>42.273205</td>\n",
       "    </tr>\n",
       "    <tr>\n",
       "      <th>9</th>\n",
       "      <td>rfr_2</td>\n",
       "      <td>0.984742</td>\n",
       "      <td>61.966194</td>\n",
       "    </tr>\n",
       "    <tr>\n",
       "      <th>10</th>\n",
       "      <td>gbr_2</td>\n",
       "      <td>0.990619</td>\n",
       "      <td>38.659061</td>\n",
       "    </tr>\n",
       "    <tr>\n",
       "      <th>11</th>\n",
       "      <td>xgb</td>\n",
       "      <td>0.987384</td>\n",
       "      <td>52.118773</td>\n",
       "    </tr>\n",
       "    <tr>\n",
       "      <th>12</th>\n",
       "      <td>gbr_4</td>\n",
       "      <td>0.991115</td>\n",
       "      <td>37.297073</td>\n",
       "    </tr>\n",
       "    <tr>\n",
       "      <th>13</th>\n",
       "      <td>gbr_3</td>\n",
       "      <td>0.988840</td>\n",
       "      <td>46.741347</td>\n",
       "    </tr>\n",
       "  </tbody>\n",
       "</table>\n",
       "</div>"
      ],
      "text/plain": [
       "                model        r2         mse\n",
       "0                 ols  0.909483  343.193670\n",
       "1        ols w/ KFold  0.909661  341.076801\n",
       "2   ols w/ gridsearch  0.909483  343.193670\n",
       "3               lasso  0.909581  342.419742\n",
       "4               ridge  0.909483  343.190233\n",
       "5         elastic net  0.909581  342.419742\n",
       "6      pls regression  0.909576  342.906153\n",
       "7                 rfr  0.984761   61.904964\n",
       "8                 gbr  0.989751   42.273205\n",
       "9               rfr_2  0.984742   61.966194\n",
       "10              gbr_2  0.990619   38.659061\n",
       "11                xgb  0.987384   52.118773\n",
       "12              gbr_4  0.991115   37.297073\n",
       "13              gbr_3  0.988840   46.741347"
      ]
     },
     "execution_count": 196,
     "metadata": {},
     "output_type": "execute_result"
    }
   ],
   "source": [
    "results"
   ]
  },
  {
   "cell_type": "code",
   "execution_count": null,
   "metadata": {},
   "outputs": [],
   "source": [
    "'''\n",
    "\tmodel\tr2\tmse\n",
    "0\tols\t0.909483\t343.193670\n",
    "1\tols w/ KFold\t0.909661\t341.076801\n",
    "2\tols w/ gridsearch\t0.909483\t343.193670\n",
    "3\tlasso\t0.909581\t342.419742\n",
    "4\tridge\t0.909483\t343.190233\n",
    "5\telastic net\t0.909581\t342.419742\n",
    "6\tpls regression\t0.909576\t342.906153\n",
    "7\trfr\t0.984761\t61.904964\n",
    "8\tgbr\t0.989751\t42.273205\n",
    "9\trfr_2\t0.984742\t61.966194\n",
    "10\tgbr_2\t0.990619\t38.659061\n",
    "11\txgb\t0.987384\t52.118773\n",
    "12\tgbr_4\t0.991115\t37.297073\n",
    "13\tgbr_3\t0.988840\t46.741347\n",
    "'''"
   ]
  },
  {
   "cell_type": "code",
   "execution_count": 149,
   "metadata": {},
   "outputs": [],
   "source": [
    "results.to_csv('model_results.csv')"
   ]
  },
  {
   "cell_type": "code",
   "execution_count": null,
   "metadata": {},
   "outputs": [],
   "source": []
  },
  {
   "cell_type": "code",
   "execution_count": null,
   "metadata": {},
   "outputs": [],
   "source": []
  },
  {
   "cell_type": "code",
   "execution_count": null,
   "metadata": {},
   "outputs": [],
   "source": []
  },
  {
   "cell_type": "code",
   "execution_count": null,
   "metadata": {},
   "outputs": [],
   "source": []
  },
  {
   "cell_type": "code",
   "execution_count": null,
   "metadata": {},
   "outputs": [],
   "source": []
  },
  {
   "cell_type": "code",
   "execution_count": null,
   "metadata": {},
   "outputs": [],
   "source": []
  },
  {
   "cell_type": "code",
   "execution_count": null,
   "metadata": {},
   "outputs": [],
   "source": []
  },
  {
   "cell_type": "code",
   "execution_count": null,
   "metadata": {},
   "outputs": [],
   "source": []
  }
 ],
 "metadata": {
  "kernelspec": {
   "display_name": "Python 3",
   "language": "python",
   "name": "python3"
  },
  "language_info": {
   "codemirror_mode": {
    "name": "ipython",
    "version": 3
   },
   "file_extension": ".py",
   "mimetype": "text/x-python",
   "name": "python",
   "nbconvert_exporter": "python",
   "pygments_lexer": "ipython3",
   "version": "3.8.10"
  }
 },
 "nbformat": 4,
 "nbformat_minor": 4
}
